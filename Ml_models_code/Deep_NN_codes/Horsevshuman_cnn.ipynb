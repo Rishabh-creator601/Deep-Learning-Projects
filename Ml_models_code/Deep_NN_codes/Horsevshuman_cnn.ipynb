{
 "cells": [
  {
   "cell_type": "code",
   "execution_count": 1,
   "metadata": {
    "executionInfo": {
     "elapsed": 445,
     "status": "ok",
     "timestamp": 1719837168266,
     "user": {
      "displayName": "Rishabh Agarwal",
      "userId": "00830671284369775883"
     },
     "user_tz": -330
    },
    "id": "ffAuLt--9D1r"
   },
   "outputs": [],
   "source": [
    "from tensorflow.keras.utils  import get_file\n",
    "from tensorflow.keras.layers import Dense,Flatten,Conv2D,MaxPooling2D\n",
    "from tensorflow.keras.models import Sequential\n",
    "from tensorflow.keras.preprocessing.image  import ImageDataGenerator"
   ]
  },
  {
   "cell_type": "code",
   "execution_count": 2,
   "metadata": {
    "colab": {
     "base_uri": "https://localhost:8080/"
    },
    "executionInfo": {
     "elapsed": 721,
     "status": "ok",
     "timestamp": 1719835537986,
     "user": {
      "displayName": "Rishabh Agarwal",
      "userId": "00830671284369775883"
     },
     "user_tz": -330
    },
    "id": "SxFzH6RQnKY7",
    "outputId": "4b121394-4d86-42a8-8239-9a7cf16346a0"
   },
   "outputs": [
    {
     "name": "stderr",
     "output_type": "stream",
     "text": [
      "'wget' is not recognized as an internal or external command,\n",
      "operable program or batch file.\n"
     ]
    }
   ],
   "source": [
    "\n",
    " !wget https://storage.googleapis.com/learning-datasets/horse-or-human.zip"
   ]
  },
  {
   "cell_type": "code",
   "execution_count": 31,
   "metadata": {
    "colab": {
     "base_uri": "https://localhost:8080/"
    },
    "executionInfo": {
     "elapsed": 550,
     "status": "ok",
     "timestamp": 1719839880560,
     "user": {
      "displayName": "Rishabh Agarwal",
      "userId": "00830671284369775883"
     },
     "user_tz": -330
    },
    "id": "aeejCjeqYO7l",
    "outputId": "3971b23d-45a9-44c8-cc1d-b82eea7c28b3"
   },
   "outputs": [
    {
     "name": "stdout",
     "output_type": "stream",
     "text": [
      "--2024-07-01 13:18:03--  https://storage.googleapis.com/learning-datasets/validation-horse-or-human.zip\n",
      "Resolving storage.googleapis.com (storage.googleapis.com)... 173.194.206.207, 209.85.145.207, 142.250.125.207, ...\n",
      "Connecting to storage.googleapis.com (storage.googleapis.com)|173.194.206.207|:443... connected.\n",
      "HTTP request sent, awaiting response... 200 OK\n",
      "Length: 11480187 (11M) [application/zip]\n",
      "Saving to: ‘validation-horse-or-human.zip’\n",
      "\n",
      "validation-horse-or 100%[===================>]  10.95M  --.-KB/s    in 0.1s    \n",
      "\n",
      "2024-07-01 13:18:04 (80.4 MB/s) - ‘validation-horse-or-human.zip’ saved [11480187/11480187]\n",
      "\n"
     ]
    }
   ],
   "source": [
    "!wget https://storage.googleapis.com/learning-datasets/validation-horse-or-human.zip"
   ]
  },
  {
   "cell_type": "code",
   "execution_count": 32,
   "metadata": {
    "executionInfo": {
     "elapsed": 21,
     "status": "ok",
     "timestamp": 1719839886548,
     "user": {
      "displayName": "Rishabh Agarwal",
      "userId": "00830671284369775883"
     },
     "user_tz": -330
    },
    "id": "INDxTwCCODMl"
   },
   "outputs": [],
   "source": [
    "train_dir=\"/content/horses-vs-humans/training\"\n",
    "test_dir=\"/content/horses-vs-humans/testing\""
   ]
  },
  {
   "cell_type": "code",
   "execution_count": 10,
   "metadata": {
    "executionInfo": {
     "elapsed": 1252,
     "status": "ok",
     "timestamp": 1719836183516,
     "user": {
      "displayName": "Rishabh Agarwal",
      "userId": "00830671284369775883"
     },
     "user_tz": -330
    },
    "id": "nM2qfoQ5rTiH"
   },
   "outputs": [],
   "source": [
    "import zipfile\n",
    "\n",
    "Zef = zipfile.ZipFile(\"/content/horse-or-human.zip\",\"r\")\n",
    "Zef.extractall(train_dir)\n",
    "Zef.close()"
   ]
  },
  {
   "cell_type": "code",
   "execution_count": 33,
   "metadata": {
    "executionInfo": {
     "elapsed": 490,
     "status": "ok",
     "timestamp": 1719839997164,
     "user": {
      "displayName": "Rishabh Agarwal",
      "userId": "00830671284369775883"
     },
     "user_tz": -330
    },
    "id": "L91kuKahY0tt"
   },
   "outputs": [],
   "source": [
    "zef2 = zipfile.ZipFile(\"/content/validation-horse-or-human.zip\")\n",
    "zef2.extractall(test_dir)\n",
    "zef2.close()"
   ]
  },
  {
   "cell_type": "code",
   "execution_count": 3,
   "metadata": {
    "executionInfo": {
     "elapsed": 13,
     "status": "ok",
     "timestamp": 1719835537990,
     "user": {
      "displayName": "Rishabh Agarwal",
      "userId": "00830671284369775883"
     },
     "user_tz": -330
    },
    "id": "O7OPOQ2En2C1"
   },
   "outputs": [],
   "source": [
    "datagen = ImageDataGenerator(rescale=1/255)"
   ]
  },
  {
   "cell_type": "code",
   "execution_count": 28,
   "metadata": {
    "colab": {
     "base_uri": "https://localhost:8080/"
    },
    "executionInfo": {
     "elapsed": 445,
     "status": "ok",
     "timestamp": 1719838491958,
     "user": {
      "displayName": "Rishabh Agarwal",
      "userId": "00830671284369775883"
     },
     "user_tz": -330
    },
    "id": "N5C8TAYaost4",
    "outputId": "74227f5b-a9e2-4ad1-fe2b-cafcfe20e155"
   },
   "outputs": [
    {
     "name": "stdout",
     "output_type": "stream",
     "text": [
      "Found 1027 images belonging to 2 classes.\n"
     ]
    }
   ],
   "source": [
    "train_data = datagen.flow_from_directory(train_dir,target_size=(300,300),class_mode=\"binary\")"
   ]
  },
  {
   "cell_type": "code",
   "execution_count": 37,
   "metadata": {
    "colab": {
     "base_uri": "https://localhost:8080/"
    },
    "executionInfo": {
     "elapsed": 471,
     "status": "ok",
     "timestamp": 1719840204718,
     "user": {
      "displayName": "Rishabh Agarwal",
      "userId": "00830671284369775883"
     },
     "user_tz": -330
    },
    "id": "ewgR6GvtXbY2",
    "outputId": "194d8f6f-515b-4c8f-d4e6-9e55c2cc3112"
   },
   "outputs": [
    {
     "name": "stdout",
     "output_type": "stream",
     "text": [
      "Found 256 images belonging to 2 classes.\n"
     ]
    }
   ],
   "source": [
    "testgen = ImageDataGenerator(rescale=1/255)\n",
    "test_data = testgen.flow_from_directory(test_dir,target_size=(300,300),class_mode=\"binary\")"
   ]
  },
  {
   "cell_type": "code",
   "execution_count": 23,
   "metadata": {
    "executionInfo": {
     "elapsed": 1717,
     "status": "ok",
     "timestamp": 1719838286798,
     "user": {
      "displayName": "Rishabh Agarwal",
      "userId": "00830671284369775883"
     },
     "user_tz": -330
    },
    "id": "AvIOFhvbOf9i"
   },
   "outputs": [],
   "source": [
    "\n",
    "model = Sequential([\n",
    " Conv2D(16, (3,3), activation='relu' ,\n",
    " input_shape=(300, 300, 3)),\n",
    " MaxPooling2D(2, 2),\n",
    " Conv2D(32, (3,3), activation='relu'),\n",
    " MaxPooling2D(2,2),\n",
    " Conv2D(64, (3,3), activation='relu'),\n",
    " MaxPooling2D(2,2),\n",
    " Conv2D(64, (3,3), activation='relu'),\n",
    " MaxPooling2D(2,2),\n",
    " Conv2D(64, (3,3), activation='relu'),\n",
    " MaxPooling2D(2,2),\n",
    " Flatten(),\n",
    " Dense(512, activation='relu'),\n",
    " Dense(1, activation='sigmoid')\n",
    "])"
   ]
  },
  {
   "cell_type": "code",
   "execution_count": 24,
   "metadata": {
    "executionInfo": {
     "elapsed": 637,
     "status": "ok",
     "timestamp": 1719838290795,
     "user": {
      "displayName": "Rishabh Agarwal",
      "userId": "00830671284369775883"
     },
     "user_tz": -330
    },
    "id": "3aY3VXHFSmun"
   },
   "outputs": [],
   "source": [
    "model.compile(loss=\"binary_crossentropy\",optimizer=\"adam\",metrics=[\"accuracy\"])"
   ]
  },
  {
   "cell_type": "code",
   "execution_count": 29,
   "metadata": {
    "colab": {
     "base_uri": "https://localhost:8080/"
    },
    "executionInfo": {
     "elapsed": 1144649,
     "status": "ok",
     "timestamp": 1719839653045,
     "user": {
      "displayName": "Rishabh Agarwal",
      "userId": "00830671284369775883"
     },
     "user_tz": -330
    },
    "id": "S3EjEhmNS-VQ",
    "outputId": "d4ab24d4-cdf8-4d74-c5cd-05b9910fbf82"
   },
   "outputs": [
    {
     "name": "stdout",
     "output_type": "stream",
     "text": [
      "Epoch 1/10\n",
      "33/33 [==============================] - 116s 3s/step - loss: 0.4022 - accuracy: 0.7926\n",
      "Epoch 2/10\n",
      "33/33 [==============================] - 105s 3s/step - loss: 0.1139 - accuracy: 0.9533\n",
      "Epoch 3/10\n",
      "33/33 [==============================] - 105s 3s/step - loss: 0.0718 - accuracy: 0.9776\n",
      "Epoch 4/10\n",
      "33/33 [==============================] - 105s 3s/step - loss: 0.0151 - accuracy: 0.9981\n",
      "Epoch 5/10\n",
      "33/33 [==============================] - 103s 3s/step - loss: 0.0461 - accuracy: 0.9825\n",
      "Epoch 6/10\n",
      "33/33 [==============================] - 106s 3s/step - loss: 0.0983 - accuracy: 0.9620\n",
      "Epoch 7/10\n",
      "33/33 [==============================] - 114s 3s/step - loss: 0.0350 - accuracy: 0.9825\n",
      "Epoch 8/10\n",
      "33/33 [==============================] - 105s 3s/step - loss: 0.0153 - accuracy: 0.9961\n",
      "Epoch 9/10\n",
      "33/33 [==============================] - 104s 3s/step - loss: 0.0050 - accuracy: 0.9990\n",
      "Epoch 10/10\n",
      "33/33 [==============================] - 104s 3s/step - loss: 0.0020 - accuracy: 1.0000\n"
     ]
    },
    {
     "data": {
      "text/plain": [
       "<keras.src.callbacks.History at 0x7f35dc2ce710>"
      ]
     },
     "execution_count": 29,
     "metadata": {},
     "output_type": "execute_result"
    }
   ],
   "source": [
    "model.fit(train_data,epochs=10)"
   ]
  },
  {
   "cell_type": "code",
   "execution_count": 38,
   "metadata": {
    "colab": {
     "base_uri": "https://localhost:8080/"
    },
    "executionInfo": {
     "elapsed": 11491,
     "status": "ok",
     "timestamp": 1719840228695,
     "user": {
      "displayName": "Rishabh Agarwal",
      "userId": "00830671284369775883"
     },
     "user_tz": -330
    },
    "id": "r9wx6c_ZXUlJ",
    "outputId": "7cd32d00-295f-4293-96e9-11c13cdf09d8"
   },
   "outputs": [
    {
     "name": "stdout",
     "output_type": "stream",
     "text": [
      "8/8 [==============================] - 9s 905ms/step - loss: 2.1940 - accuracy: 0.8203\n"
     ]
    },
    {
     "data": {
      "text/plain": [
       "[2.193983316421509, 0.8203125]"
      ]
     },
     "execution_count": 38,
     "metadata": {},
     "output_type": "execute_result"
    }
   ],
   "source": [
    "model.evaluate(test_data)"
   ]
  }
 ],
 "metadata": {
  "colab": {
   "authorship_tag": "ABX9TyMu1rbuSyzyWPnQDqm8WrF+",
   "provenance": []
  },
  "kernelspec": {
   "display_name": "Python 3 (ipykernel)",
   "language": "python",
   "name": "python3"
  },
  "language_info": {
   "codemirror_mode": {
    "name": "ipython",
    "version": 3
   },
   "file_extension": ".py",
   "mimetype": "text/x-python",
   "name": "python",
   "nbconvert_exporter": "python",
   "pygments_lexer": "ipython3",
   "version": "3.10.0"
  }
 },
 "nbformat": 4,
 "nbformat_minor": 4
}
