{
 "cells": [
  {
   "cell_type": "code",
   "execution_count": 109,
   "id": "ad172160",
   "metadata": {
    "execution": {
     "iopub.execute_input": "2024-09-15T06:20:06.227437Z",
     "iopub.status.busy": "2024-09-15T06:20:06.227044Z",
     "iopub.status.idle": "2024-09-15T06:20:06.233147Z",
     "shell.execute_reply": "2024-09-15T06:20:06.232191Z",
     "shell.execute_reply.started": "2024-09-15T06:20:06.227394Z"
    }
   },
   "outputs": [],
   "source": [
    "import os; import numpy as np\n",
    "import matplotlib.pyplot as plt\n",
    "from tensorflow.keras.models import Sequential\n",
    "import tensorflow.keras.layers as ly\n",
    "from tensorflow.keras.preprocessing.text import Tokenizer\n",
    "from tensorflow.keras.preprocessing.sequence import pad_sequences\n",
    "from tensorflow.keras.optimizers import Adam"
   ]
  },
  {
   "cell_type": "markdown",
   "id": "06fdd3a2",
   "metadata": {},
   "source": [
    "## Preprocessing data"
   ]
  },
  {
   "cell_type": "code",
   "execution_count": 9,
   "id": "3a56d173",
   "metadata": {
    "execution": {
     "iopub.execute_input": "2024-09-15T05:28:56.149734Z",
     "iopub.status.busy": "2024-09-15T05:28:56.148849Z",
     "iopub.status.idle": "2024-09-15T05:28:56.156144Z",
     "shell.execute_reply": "2024-09-15T05:28:56.155019Z",
     "shell.execute_reply.started": "2024-09-15T05:28:56.149688Z"
    }
   },
   "outputs": [],
   "source": [
    "\n",
    "def load_data(path):\n",
    "    path = os.path.join(path)\n",
    "    with open(path,'r') as f:\n",
    "        data = f.read()\n",
    "    return data.split(\"\\n\")"
   ]
  },
  {
   "cell_type": "code",
   "execution_count": 10,
   "id": "3c9db9b9",
   "metadata": {
    "execution": {
     "iopub.execute_input": "2024-09-15T05:28:57.229866Z",
     "iopub.status.busy": "2024-09-15T05:28:57.229070Z",
     "iopub.status.idle": "2024-09-15T05:28:57.236249Z",
     "shell.execute_reply": "2024-09-15T05:28:57.235261Z",
     "shell.execute_reply.started": "2024-09-15T05:28:57.229825Z"
    }
   },
   "outputs": [],
   "source": [
    "def process(x,y=False,length=None):\n",
    "    token = Tokenizer(char_level=False)\n",
    "    token.fit_on_texts(x)\n",
    "    x_tokenized = token.texts_to_sequences(x)\n",
    "    \n",
    "    if length is None:\n",
    "        length = max([len(sent) for sent in x_tokenized])\n",
    "        \n",
    "    padded =  pad_sequences(x_tokenized,maxlen=length,padding=\"post\")\n",
    "    \n",
    "    if y==True:   ## For french set\n",
    "        padded = padded.reshape(*padded.shape,1)\n",
    "    return padded,token\n",
    "    "
   ]
  },
  {
   "cell_type": "code",
   "execution_count": 53,
   "id": "5adc5d01",
   "metadata": {
    "execution": {
     "iopub.execute_input": "2024-09-15T05:51:59.226900Z",
     "iopub.status.busy": "2024-09-15T05:51:59.226014Z",
     "iopub.status.idle": "2024-09-15T05:51:59.233647Z",
     "shell.execute_reply": "2024-09-15T05:51:59.232553Z",
     "shell.execute_reply.started": "2024-09-15T05:51:59.226862Z"
    }
   },
   "outputs": [],
   "source": [
    "def logits_to_text(logits,tokenizer):\n",
    "    index_word = {id:word for word ,id in tokenizer.word_index.items()}\n",
    "    index_word[0] = \"<DONE>\"\n",
    "    return \" \".join([index_word[pred]  for pred in np.argmax(logits,1)])\n",
    "\n",
    "def token_to_words(sequences,tokenizer):\n",
    "    index_word = {id:word for word,id in tokenizer.word_index.items()}\n",
    "    index_word[0] = \"<Done>\"\n",
    "    return [index_word[token] for token in sequences if index_word[token]!= \"<Done>\"]"
   ]
  },
  {
   "cell_type": "code",
   "execution_count": 12,
   "id": "cc361b32",
   "metadata": {
    "execution": {
     "iopub.execute_input": "2024-09-15T05:28:58.229660Z",
     "iopub.status.busy": "2024-09-15T05:28:58.229012Z",
     "iopub.status.idle": "2024-09-15T05:28:58.234780Z",
     "shell.execute_reply": "2024-09-15T05:28:58.233853Z",
     "shell.execute_reply.started": "2024-09-15T05:28:58.229617Z"
    }
   },
   "outputs": [],
   "source": [
    "def pad(x,length=None):\n",
    "    if length is None:\n",
    "        length =  max([len(sent)  for sent in x])\n",
    "    padded = pad_sequences(x,maxlen=length,padding=\"post\")\n",
    "    return padded"
   ]
  },
  {
   "cell_type": "code",
   "execution_count": 14,
   "id": "5608b800",
   "metadata": {
    "execution": {
     "iopub.execute_input": "2024-09-15T05:31:13.758564Z",
     "iopub.status.busy": "2024-09-15T05:31:13.757752Z",
     "iopub.status.idle": "2024-09-15T05:31:13.995167Z",
     "shell.execute_reply": "2024-09-15T05:31:13.994370Z",
     "shell.execute_reply.started": "2024-09-15T05:31:13.758522Z"
    }
   },
   "outputs": [],
   "source": [
    "english_sent = load_data(\"data/small_vocab_en.txt\")\n",
    "french_sent = load_data(\"data/small_vocab_fr.txt\")"
   ]
  },
  {
   "cell_type": "code",
   "execution_count": 107,
   "id": "e6a68522",
   "metadata": {
    "execution": {
     "iopub.execute_input": "2024-09-15T06:19:17.378909Z",
     "iopub.status.busy": "2024-09-15T06:19:17.378498Z",
     "iopub.status.idle": "2024-09-15T06:19:17.385489Z",
     "shell.execute_reply": "2024-09-15T06:19:17.384577Z",
     "shell.execute_reply.started": "2024-09-15T06:19:17.378873Z"
    }
   },
   "outputs": [
    {
     "data": {
      "text/plain": [
       "('new jersey is sometimes quiet during autumn , and it is snowy in april .',\n",
       " \"new jersey est parfois calme pendant l' automne , et il est neigeux en avril .\")"
      ]
     },
     "execution_count": 107,
     "metadata": {},
     "output_type": "execute_result"
    }
   ],
   "source": [
    "english_sent[0], french_sent[0]"
   ]
  },
  {
   "cell_type": "code",
   "execution_count": 16,
   "id": "bfe66c45",
   "metadata": {
    "execution": {
     "iopub.execute_input": "2024-09-15T05:31:15.977681Z",
     "iopub.status.busy": "2024-09-15T05:31:15.976841Z",
     "iopub.status.idle": "2024-09-15T05:31:21.207871Z",
     "shell.execute_reply": "2024-09-15T05:31:21.207038Z",
     "shell.execute_reply.started": "2024-09-15T05:31:15.977636Z"
    }
   },
   "outputs": [],
   "source": [
    "(english_padded ,english_token)= process(english_sent)"
   ]
  },
  {
   "cell_type": "code",
   "execution_count": 17,
   "id": "5020fa59",
   "metadata": {
    "execution": {
     "iopub.execute_input": "2024-09-15T05:31:21.209981Z",
     "iopub.status.busy": "2024-09-15T05:31:21.209650Z",
     "iopub.status.idle": "2024-09-15T05:31:27.760787Z",
     "shell.execute_reply": "2024-09-15T05:31:27.759973Z",
     "shell.execute_reply.started": "2024-09-15T05:31:21.209948Z"
    }
   },
   "outputs": [],
   "source": [
    "(french_padded,french_token) =  process(french_sent,y=True)"
   ]
  },
  {
   "cell_type": "markdown",
   "id": "748e35ea",
   "metadata": {},
   "source": [
    "## Model Building"
   ]
  },
  {
   "cell_type": "code",
   "execution_count": 24,
   "id": "2fe75af3",
   "metadata": {
    "execution": {
     "iopub.execute_input": "2024-09-15T05:31:50.037629Z",
     "iopub.status.busy": "2024-09-15T05:31:50.037255Z",
     "iopub.status.idle": "2024-09-15T05:31:50.044216Z",
     "shell.execute_reply": "2024-09-15T05:31:50.043308Z",
     "shell.execute_reply.started": "2024-09-15T05:31:50.037592Z"
    }
   },
   "outputs": [],
   "source": [
    "def final_model(input_shape,output_seq_length,english_vocab,french_vocab):\n",
    "    model = Sequential([\n",
    "        ly.Embedding(input_dim=english_vocab,input_length=input_shape[1],output_dim=128),\n",
    "        ly.Bidirectional(ly.GRU(256,return_sequences=False)),\n",
    "        ly.RepeatVector(output_seq_length),\n",
    "        ly.Bidirectional(ly.GRU(256,return_sequences=True)),\n",
    "        ly.TimeDistributed(ly.Dense(french_vocab,activation=\"softmax\"))\n",
    "        \n",
    "    ])\n",
    "    model.compile(loss=\"sparse_categorical_crossentropy\",optimizer=Adam(learning_rate=0.005),metrics=[\"acc\"])\n",
    "    return model \n",
    "    "
   ]
  },
  {
   "cell_type": "code",
   "execution_count": 108,
   "id": "5ce6db72",
   "metadata": {
    "execution": {
     "iopub.execute_input": "2024-09-15T06:19:38.833927Z",
     "iopub.status.busy": "2024-09-15T06:19:38.833504Z",
     "iopub.status.idle": "2024-09-15T06:19:39.261893Z",
     "shell.execute_reply": "2024-09-15T06:19:39.261059Z",
     "shell.execute_reply.started": "2024-09-15T06:19:38.833886Z"
    }
   },
   "outputs": [],
   "source": [
    "tmp_x = pad(english_padded,french_padded.shape[1]).reshape((-1,french_padded.shape[-2])) ## Reshaping according to RNN model"
   ]
  },
  {
   "cell_type": "code",
   "execution_count": 26,
   "id": "2486e64b",
   "metadata": {
    "execution": {
     "iopub.execute_input": "2024-09-15T05:31:51.788777Z",
     "iopub.status.busy": "2024-09-15T05:31:51.787946Z",
     "iopub.status.idle": "2024-09-15T05:31:51.795237Z",
     "shell.execute_reply": "2024-09-15T05:31:51.794261Z",
     "shell.execute_reply.started": "2024-09-15T05:31:51.788736Z"
    }
   },
   "outputs": [
    {
     "data": {
      "text/plain": [
       "array([17, 23,  1,  8, 67,  4, 39,  7,  3,  1, 55,  2, 44,  0,  0,  0,  0,\n",
       "        0,  0,  0,  0], dtype=int32)"
      ]
     },
     "execution_count": 26,
     "metadata": {},
     "output_type": "execute_result"
    }
   ],
   "source": [
    "tmp_x[0]"
   ]
  },
  {
   "cell_type": "code",
   "execution_count": 27,
   "id": "8b377b89",
   "metadata": {
    "execution": {
     "iopub.execute_input": "2024-09-15T05:31:52.718072Z",
     "iopub.status.busy": "2024-09-15T05:31:52.717671Z",
     "iopub.status.idle": "2024-09-15T05:31:52.759908Z",
     "shell.execute_reply": "2024-09-15T05:31:52.759159Z",
     "shell.execute_reply.started": "2024-09-15T05:31:52.718031Z"
    }
   },
   "outputs": [],
   "source": [
    "model = final_model(tmp_x.shape,french_padded.shape[1],len(english_token.word_index)+1,len(french_token.word_index)+1)"
   ]
  },
  {
   "cell_type": "code",
   "execution_count": 28,
   "id": "9b13c4af",
   "metadata": {
    "execution": {
     "iopub.execute_input": "2024-09-15T05:31:54.009651Z",
     "iopub.status.busy": "2024-09-15T05:31:54.009272Z",
     "iopub.status.idle": "2024-09-15T05:31:54.028855Z",
     "shell.execute_reply": "2024-09-15T05:31:54.027900Z",
     "shell.execute_reply.started": "2024-09-15T05:31:54.009617Z"
    }
   },
   "outputs": [
    {
     "data": {
      "text/html": [
       "<pre style=\"white-space:pre;overflow-x:auto;line-height:normal;font-family:Menlo,'DejaVu Sans Mono',consolas,'Courier New',monospace\"><span style=\"font-weight: bold\">Model: \"sequential_1\"</span>\n",
       "</pre>\n"
      ],
      "text/plain": [
       "\u001b[1mModel: \"sequential_1\"\u001b[0m\n"
      ]
     },
     "metadata": {},
     "output_type": "display_data"
    },
    {
     "data": {
      "text/html": [
       "<pre style=\"white-space:pre;overflow-x:auto;line-height:normal;font-family:Menlo,'DejaVu Sans Mono',consolas,'Courier New',monospace\">┏━━━━━━━━━━━━━━━━━━━━━━━━━━━━━━━━━┳━━━━━━━━━━━━━━━━━━━━━━━━┳━━━━━━━━━━━━━━━┓\n",
       "┃<span style=\"font-weight: bold\"> Layer (type)                    </span>┃<span style=\"font-weight: bold\"> Output Shape           </span>┃<span style=\"font-weight: bold\">       Param # </span>┃\n",
       "┡━━━━━━━━━━━━━━━━━━━━━━━━━━━━━━━━━╇━━━━━━━━━━━━━━━━━━━━━━━━╇━━━━━━━━━━━━━━━┩\n",
       "│ embedding_1 (<span style=\"color: #0087ff; text-decoration-color: #0087ff\">Embedding</span>)         │ ?                      │   <span style=\"color: #00af00; text-decoration-color: #00af00\">0</span> (unbuilt) │\n",
       "├─────────────────────────────────┼────────────────────────┼───────────────┤\n",
       "│ bidirectional_2 (<span style=\"color: #0087ff; text-decoration-color: #0087ff\">Bidirectional</span>) │ ?                      │   <span style=\"color: #00af00; text-decoration-color: #00af00\">0</span> (unbuilt) │\n",
       "├─────────────────────────────────┼────────────────────────┼───────────────┤\n",
       "│ repeat_vector_1 (<span style=\"color: #0087ff; text-decoration-color: #0087ff\">RepeatVector</span>)  │ ?                      │   <span style=\"color: #00af00; text-decoration-color: #00af00\">0</span> (unbuilt) │\n",
       "├─────────────────────────────────┼────────────────────────┼───────────────┤\n",
       "│ bidirectional_3 (<span style=\"color: #0087ff; text-decoration-color: #0087ff\">Bidirectional</span>) │ ?                      │   <span style=\"color: #00af00; text-decoration-color: #00af00\">0</span> (unbuilt) │\n",
       "├─────────────────────────────────┼────────────────────────┼───────────────┤\n",
       "│ time_distributed_1              │ ?                      │   <span style=\"color: #00af00; text-decoration-color: #00af00\">0</span> (unbuilt) │\n",
       "│ (<span style=\"color: #0087ff; text-decoration-color: #0087ff\">TimeDistributed</span>)               │                        │               │\n",
       "└─────────────────────────────────┴────────────────────────┴───────────────┘\n",
       "</pre>\n"
      ],
      "text/plain": [
       "┏━━━━━━━━━━━━━━━━━━━━━━━━━━━━━━━━━┳━━━━━━━━━━━━━━━━━━━━━━━━┳━━━━━━━━━━━━━━━┓\n",
       "┃\u001b[1m \u001b[0m\u001b[1mLayer (type)                   \u001b[0m\u001b[1m \u001b[0m┃\u001b[1m \u001b[0m\u001b[1mOutput Shape          \u001b[0m\u001b[1m \u001b[0m┃\u001b[1m \u001b[0m\u001b[1m      Param #\u001b[0m\u001b[1m \u001b[0m┃\n",
       "┡━━━━━━━━━━━━━━━━━━━━━━━━━━━━━━━━━╇━━━━━━━━━━━━━━━━━━━━━━━━╇━━━━━━━━━━━━━━━┩\n",
       "│ embedding_1 (\u001b[38;5;33mEmbedding\u001b[0m)         │ ?                      │   \u001b[38;5;34m0\u001b[0m (unbuilt) │\n",
       "├─────────────────────────────────┼────────────────────────┼───────────────┤\n",
       "│ bidirectional_2 (\u001b[38;5;33mBidirectional\u001b[0m) │ ?                      │   \u001b[38;5;34m0\u001b[0m (unbuilt) │\n",
       "├─────────────────────────────────┼────────────────────────┼───────────────┤\n",
       "│ repeat_vector_1 (\u001b[38;5;33mRepeatVector\u001b[0m)  │ ?                      │   \u001b[38;5;34m0\u001b[0m (unbuilt) │\n",
       "├─────────────────────────────────┼────────────────────────┼───────────────┤\n",
       "│ bidirectional_3 (\u001b[38;5;33mBidirectional\u001b[0m) │ ?                      │   \u001b[38;5;34m0\u001b[0m (unbuilt) │\n",
       "├─────────────────────────────────┼────────────────────────┼───────────────┤\n",
       "│ time_distributed_1              │ ?                      │   \u001b[38;5;34m0\u001b[0m (unbuilt) │\n",
       "│ (\u001b[38;5;33mTimeDistributed\u001b[0m)               │                        │               │\n",
       "└─────────────────────────────────┴────────────────────────┴───────────────┘\n"
      ]
     },
     "metadata": {},
     "output_type": "display_data"
    },
    {
     "data": {
      "text/html": [
       "<pre style=\"white-space:pre;overflow-x:auto;line-height:normal;font-family:Menlo,'DejaVu Sans Mono',consolas,'Courier New',monospace\"><span style=\"font-weight: bold\"> Total params: </span><span style=\"color: #00af00; text-decoration-color: #00af00\">0</span> (0.00 B)\n",
       "</pre>\n"
      ],
      "text/plain": [
       "\u001b[1m Total params: \u001b[0m\u001b[38;5;34m0\u001b[0m (0.00 B)\n"
      ]
     },
     "metadata": {},
     "output_type": "display_data"
    },
    {
     "data": {
      "text/html": [
       "<pre style=\"white-space:pre;overflow-x:auto;line-height:normal;font-family:Menlo,'DejaVu Sans Mono',consolas,'Courier New',monospace\"><span style=\"font-weight: bold\"> Trainable params: </span><span style=\"color: #00af00; text-decoration-color: #00af00\">0</span> (0.00 B)\n",
       "</pre>\n"
      ],
      "text/plain": [
       "\u001b[1m Trainable params: \u001b[0m\u001b[38;5;34m0\u001b[0m (0.00 B)\n"
      ]
     },
     "metadata": {},
     "output_type": "display_data"
    },
    {
     "data": {
      "text/html": [
       "<pre style=\"white-space:pre;overflow-x:auto;line-height:normal;font-family:Menlo,'DejaVu Sans Mono',consolas,'Courier New',monospace\"><span style=\"font-weight: bold\"> Non-trainable params: </span><span style=\"color: #00af00; text-decoration-color: #00af00\">0</span> (0.00 B)\n",
       "</pre>\n"
      ],
      "text/plain": [
       "\u001b[1m Non-trainable params: \u001b[0m\u001b[38;5;34m0\u001b[0m (0.00 B)\n"
      ]
     },
     "metadata": {},
     "output_type": "display_data"
    }
   ],
   "source": [
    "model.summary()"
   ]
  },
  {
   "cell_type": "code",
   "execution_count": 29,
   "id": "ee687ff1",
   "metadata": {
    "execution": {
     "iopub.execute_input": "2024-09-15T05:32:44.698986Z",
     "iopub.status.busy": "2024-09-15T05:32:44.698592Z",
     "iopub.status.idle": "2024-09-15T05:37:28.631992Z",
     "shell.execute_reply": "2024-09-15T05:37:28.630881Z",
     "shell.execute_reply.started": "2024-09-15T05:32:44.698949Z"
    }
   },
   "outputs": [
    {
     "name": "stdout",
     "output_type": "stream",
     "text": [
      "Epoch 1/20\n",
      "\u001b[1m108/108\u001b[0m \u001b[32m━━━━━━━━━━━━━━━━━━━━\u001b[0m\u001b[37m\u001b[0m \u001b[1m18s\u001b[0m 127ms/step - acc: 0.4249 - loss: 3.0260 - val_acc: 0.6285 - val_loss: 1.4500\n",
      "Epoch 2/20\n",
      "\u001b[1m108/108\u001b[0m \u001b[32m━━━━━━━━━━━━━━━━━━━━\u001b[0m\u001b[37m\u001b[0m \u001b[1m13s\u001b[0m 121ms/step - acc: 0.6671 - loss: 1.2533 - val_acc: 0.7720 - val_loss: 0.8157\n",
      "Epoch 3/20\n",
      "\u001b[1m108/108\u001b[0m \u001b[32m━━━━━━━━━━━━━━━━━━━━\u001b[0m\u001b[37m\u001b[0m \u001b[1m13s\u001b[0m 123ms/step - acc: 0.8007 - loss: 0.7065 - val_acc: 0.8573 - val_loss: 0.4933\n",
      "Epoch 4/20\n",
      "\u001b[1m108/108\u001b[0m \u001b[32m━━━━━━━━━━━━━━━━━━━━\u001b[0m\u001b[37m\u001b[0m \u001b[1m13s\u001b[0m 124ms/step - acc: 0.8853 - loss: 0.4065 - val_acc: 0.8333 - val_loss: 0.5285\n",
      "Epoch 5/20\n",
      "\u001b[1m108/108\u001b[0m \u001b[32m━━━━━━━━━━━━━━━━━━━━\u001b[0m\u001b[37m\u001b[0m \u001b[1m14s\u001b[0m 125ms/step - acc: 0.8996 - loss: 0.3441 - val_acc: 0.9355 - val_loss: 0.2388\n",
      "Epoch 6/20\n",
      "\u001b[1m108/108\u001b[0m \u001b[32m━━━━━━━━━━━━━━━━━━━━\u001b[0m\u001b[37m\u001b[0m \u001b[1m14s\u001b[0m 127ms/step - acc: 0.9409 - loss: 0.2115 - val_acc: 0.9422 - val_loss: 0.2099\n",
      "Epoch 7/20\n",
      "\u001b[1m108/108\u001b[0m \u001b[32m━━━━━━━━━━━━━━━━━━━━\u001b[0m\u001b[37m\u001b[0m \u001b[1m14s\u001b[0m 128ms/step - acc: 0.9513 - loss: 0.1778 - val_acc: 0.9595 - val_loss: 0.1523\n",
      "Epoch 8/20\n",
      "\u001b[1m108/108\u001b[0m \u001b[32m━━━━━━━━━━━━━━━━━━━━\u001b[0m\u001b[37m\u001b[0m \u001b[1m14s\u001b[0m 130ms/step - acc: 0.9612 - loss: 0.1430 - val_acc: 0.9511 - val_loss: 0.1734\n",
      "Epoch 9/20\n",
      "\u001b[1m108/108\u001b[0m \u001b[32m━━━━━━━━━━━━━━━━━━━━\u001b[0m\u001b[37m\u001b[0m \u001b[1m14s\u001b[0m 132ms/step - acc: 0.9617 - loss: 0.1384 - val_acc: 0.9577 - val_loss: 0.1486\n",
      "Epoch 10/20\n",
      "\u001b[1m108/108\u001b[0m \u001b[32m━━━━━━━━━━━━━━━━━━━━\u001b[0m\u001b[37m\u001b[0m \u001b[1m14s\u001b[0m 131ms/step - acc: 0.9658 - loss: 0.1222 - val_acc: 0.9703 - val_loss: 0.1084\n",
      "Epoch 11/20\n",
      "\u001b[1m108/108\u001b[0m \u001b[32m━━━━━━━━━━━━━━━━━━━━\u001b[0m\u001b[37m\u001b[0m \u001b[1m14s\u001b[0m 131ms/step - acc: 0.9675 - loss: 0.1156 - val_acc: 0.9688 - val_loss: 0.1143\n",
      "Epoch 12/20\n",
      "\u001b[1m108/108\u001b[0m \u001b[32m━━━━━━━━━━━━━━━━━━━━\u001b[0m\u001b[37m\u001b[0m \u001b[1m14s\u001b[0m 132ms/step - acc: 0.9726 - loss: 0.0988 - val_acc: 0.9692 - val_loss: 0.1121\n",
      "Epoch 13/20\n",
      "\u001b[1m108/108\u001b[0m \u001b[32m━━━━━━━━━━━━━━━━━━━━\u001b[0m\u001b[37m\u001b[0m \u001b[1m14s\u001b[0m 131ms/step - acc: 0.9720 - loss: 0.1009 - val_acc: 0.9593 - val_loss: 0.1472\n",
      "Epoch 14/20\n",
      "\u001b[1m108/108\u001b[0m \u001b[32m━━━━━━━━━━━━━━━━━━━━\u001b[0m\u001b[37m\u001b[0m \u001b[1m14s\u001b[0m 132ms/step - acc: 0.9695 - loss: 0.1077 - val_acc: 0.9696 - val_loss: 0.1103\n",
      "Epoch 15/20\n",
      "\u001b[1m108/108\u001b[0m \u001b[32m━━━━━━━━━━━━━━━━━━━━\u001b[0m\u001b[37m\u001b[0m \u001b[1m14s\u001b[0m 132ms/step - acc: 0.9779 - loss: 0.0792 - val_acc: 0.9097 - val_loss: 0.3132\n",
      "Epoch 16/20\n",
      "\u001b[1m108/108\u001b[0m \u001b[32m━━━━━━━━━━━━━━━━━━━━\u001b[0m\u001b[37m\u001b[0m \u001b[1m14s\u001b[0m 132ms/step - acc: 0.9205 - loss: 0.2585 - val_acc: 0.9617 - val_loss: 0.1394\n",
      "Epoch 17/20\n",
      "\u001b[1m108/108\u001b[0m \u001b[32m━━━━━━━━━━━━━━━━━━━━\u001b[0m\u001b[37m\u001b[0m \u001b[1m14s\u001b[0m 132ms/step - acc: 0.9553 - loss: 0.1529 - val_acc: 0.9501 - val_loss: 0.1670\n",
      "Epoch 18/20\n",
      "\u001b[1m108/108\u001b[0m \u001b[32m━━━━━━━━━━━━━━━━━━━━\u001b[0m\u001b[37m\u001b[0m \u001b[1m14s\u001b[0m 131ms/step - acc: 0.9662 - loss: 0.1168 - val_acc: 0.9729 - val_loss: 0.0989\n",
      "Epoch 19/20\n",
      "\u001b[1m108/108\u001b[0m \u001b[32m━━━━━━━━━━━━━━━━━━━━\u001b[0m\u001b[37m\u001b[0m \u001b[1m14s\u001b[0m 132ms/step - acc: 0.9768 - loss: 0.0829 - val_acc: 0.9636 - val_loss: 0.1301\n",
      "Epoch 20/20\n",
      "\u001b[1m108/108\u001b[0m \u001b[32m━━━━━━━━━━━━━━━━━━━━\u001b[0m\u001b[37m\u001b[0m \u001b[1m14s\u001b[0m 132ms/step - acc: 0.9738 - loss: 0.0916 - val_acc: 0.9717 - val_loss: 0.1019\n"
     ]
    }
   ],
   "source": [
    "hist  = model.fit(tmp_x,french_padded,batch_size=1024,epochs=20,validation_split=0.2)"
   ]
  },
  {
   "cell_type": "code",
   "execution_count": 110,
   "id": "800df3b6",
   "metadata": {
    "execution": {
     "iopub.execute_input": "2024-09-15T06:20:42.740148Z",
     "iopub.status.busy": "2024-09-15T06:20:42.739481Z",
     "iopub.status.idle": "2024-09-15T06:20:43.042213Z",
     "shell.execute_reply": "2024-09-15T06:20:43.041294Z",
     "shell.execute_reply.started": "2024-09-15T06:20:42.740109Z"
    }
   },
   "outputs": [
    {
     "data": {
      "text/plain": [
       "<matplotlib.legend.Legend at 0x7e90181d5150>"
      ]
     },
     "execution_count": 110,
     "metadata": {},
     "output_type": "execute_result"
    },
    {
     "data": {
      "image/png": "[encoded data removed]",
      "text/plain": [
       "<Figure size 640x480 with 1 Axes>"
      ]
     },
     "metadata": {},
     "output_type": "display_data"
    }
   ],
   "source": [
    "plt.plot(hist.history[\"acc\"])\n",
    "plt.plot(hist.history[\"val_acc\"])\n",
    "plt.legend()"
   ]
  },
  {
   "cell_type": "code",
   "execution_count": 111,
   "id": "cbb2de32",
   "metadata": {
    "execution": {
     "iopub.execute_input": "2024-09-15T06:21:00.032284Z",
     "iopub.status.busy": "2024-09-15T06:21:00.031536Z",
     "iopub.status.idle": "2024-09-15T06:21:00.302206Z",
     "shell.execute_reply": "2024-09-15T06:21:00.301286Z",
     "shell.execute_reply.started": "2024-09-15T06:21:00.032245Z"
    }
   },
   "outputs": [
    {
     "data": {
      "text/plain": [
       "<matplotlib.legend.Legend at 0x7e90181e0eb0>"
      ]
     },
     "execution_count": 111,
     "metadata": {},
     "output_type": "execute_result"
    },
    {
     "data": {
      "image/png": "[encoded data removed]",
      "text/plain": [
       "<Figure size 640x480 with 1 Axes>"
      ]
     },
     "metadata": {},
     "output_type": "display_data"
    }
   ],
   "source": [
    "plt.plot(hist.history[\"loss\"])\n",
    "plt.plot(hist.history[\"val_loss\"])\n",
    "plt.legend()"
   ]
  },
  {
   "cell_type": "markdown",
   "id": "dc122820",
   "metadata": {},
   "source": [
    "## Making Predictions "
   ]
  },
  {
   "cell_type": "code",
   "execution_count": 58,
   "id": "d424cfe1",
   "metadata": {
    "execution": {
     "iopub.execute_input": "2024-09-15T05:52:35.042159Z",
     "iopub.status.busy": "2024-09-15T05:52:35.041764Z",
     "iopub.status.idle": "2024-09-15T05:52:35.048890Z",
     "shell.execute_reply": "2024-09-15T05:52:35.047949Z",
     "shell.execute_reply.started": "2024-09-15T05:52:35.042122Z"
    }
   },
   "outputs": [
    {
     "data": {
      "text/plain": [
       "'new jersey is sometimes quiet during autumn and it is snowy in april'"
      ]
     },
     "execution_count": 58,
     "metadata": {},
     "output_type": "execute_result"
    }
   ],
   "source": [
    "\" \".join(token_to_words(tmp_x[:1][0],english_token))"
   ]
  },
  {
   "cell_type": "code",
   "execution_count": 112,
   "id": "05fe467f",
   "metadata": {
    "execution": {
     "iopub.execute_input": "2024-09-15T06:21:11.219837Z",
     "iopub.status.busy": "2024-09-15T06:21:11.219118Z",
     "iopub.status.idle": "2024-09-15T06:21:11.290450Z",
     "shell.execute_reply": "2024-09-15T06:21:11.289332Z",
     "shell.execute_reply.started": "2024-09-15T06:21:11.219791Z"
    }
   },
   "outputs": [
    {
     "name": "stdout",
     "output_type": "stream",
     "text": [
      "\u001b[1m1/1\u001b[0m \u001b[32m━━━━━━━━━━━━━━━━━━━━\u001b[0m\u001b[37m\u001b[0m \u001b[1m0s\u001b[0m 22ms/step\n"
     ]
    },
    {
     "data": {
      "text/plain": [
       "\"new jersey est parfois calme pendant l' automne et il neigeux neigeux en avril <DONE> <DONE> <DONE> <DONE> <DONE> <DONE> <DONE>\""
      ]
     },
     "execution_count": 112,
     "metadata": {},
     "output_type": "execute_result"
    }
   ],
   "source": [
    "logits_to_text(model.predict(tmp_x[:1])[0],french_token)"
   ]
  },
  {
   "cell_type": "code",
   "execution_count": 101,
   "id": "7d7db40f",
   "metadata": {
    "execution": {
     "iopub.execute_input": "2024-09-15T06:09:10.177173Z",
     "iopub.status.busy": "2024-09-15T06:09:10.176142Z",
     "iopub.status.idle": "2024-09-15T06:09:10.181689Z",
     "shell.execute_reply": "2024-09-15T06:09:10.180785Z",
     "shell.execute_reply.started": "2024-09-15T06:09:10.177131Z"
    }
   },
   "outputs": [],
   "source": [
    "y_id_to_word = {value: key for key, value in french_token.word_index.items()}\n",
    "y_id_to_word[0] = '<PAD>'"
   ]
  },
  {
   "cell_type": "code",
   "execution_count": 79,
   "id": "e4147dce",
   "metadata": {
    "execution": {
     "iopub.execute_input": "2024-09-15T06:03:09.064084Z",
     "iopub.status.busy": "2024-09-15T06:03:09.063624Z",
     "iopub.status.idle": "2024-09-15T06:03:09.070028Z",
     "shell.execute_reply": "2024-09-15T06:03:09.069062Z",
     "shell.execute_reply.started": "2024-09-15T06:03:09.064040Z"
    }
   },
   "outputs": [],
   "source": [
    "def preprocess_text(text):\n",
    "    sequence = [english_token.word_index[word] for word in text.split()]\n",
    "    sequence = pad_sequences([sequence],maxlen=english_padded.shape[-1],padding=\"post\")\n",
    "    sequence = np.array([sequence[0],english_padded[0]])\n",
    "    return sequence\n",
    "    "
   ]
  },
  {
   "cell_type": "code",
   "execution_count": 103,
   "id": "f6f4d6f5",
   "metadata": {
    "execution": {
     "iopub.execute_input": "2024-09-15T06:13:20.437497Z",
     "iopub.status.busy": "2024-09-15T06:13:20.437031Z",
     "iopub.status.idle": "2024-09-15T06:13:20.443018Z",
     "shell.execute_reply": "2024-09-15T06:13:20.441988Z",
     "shell.execute_reply.started": "2024-09-15T06:13:20.437456Z"
    }
   },
   "outputs": [],
   "source": [
    "def decode(predictions):\n",
    "    print(' '.join([y_id_to_word[np.argmax(x)] for x in predictions[0]]))"
   ]
  },
  {
   "cell_type": "code",
   "execution_count": 113,
   "id": "99699ff6",
   "metadata": {
    "execution": {
     "iopub.execute_input": "2024-09-15T06:21:52.747343Z",
     "iopub.status.busy": "2024-09-15T06:21:52.746572Z",
     "iopub.status.idle": "2024-09-15T06:21:52.751448Z",
     "shell.execute_reply": "2024-09-15T06:21:52.750551Z",
     "shell.execute_reply.started": "2024-09-15T06:21:52.747304Z"
    }
   },
   "outputs": [],
   "source": [
    "sample  = \"he saw a old yellow truck \"\n",
    "text  = preprocess_text(sample)"
   ]
  },
  {
   "cell_type": "code",
   "execution_count": 100,
   "id": "3ae72354",
   "metadata": {
    "execution": {
     "iopub.execute_input": "2024-09-15T06:09:09.538220Z",
     "iopub.status.busy": "2024-09-15T06:09:09.537865Z",
     "iopub.status.idle": "2024-09-15T06:09:09.608497Z",
     "shell.execute_reply": "2024-09-15T06:09:09.607728Z",
     "shell.execute_reply.started": "2024-09-15T06:09:09.538186Z"
    }
   },
   "outputs": [
    {
     "name": "stdout",
     "output_type": "stream",
     "text": [
      "\u001b[1m1/1\u001b[0m \u001b[32m━━━━━━━━━━━━━━━━━━━━\u001b[0m\u001b[37m\u001b[0m \u001b[1m0s\u001b[0m 22ms/step\n"
     ]
    }
   ],
   "source": [
    "predictions   =  model.predict([text])"
   ]
  },
  {
   "cell_type": "code",
   "execution_count": 104,
   "id": "d273f0c9",
   "metadata": {
    "execution": {
     "iopub.execute_input": "2024-09-15T06:13:39.839360Z",
     "iopub.status.busy": "2024-09-15T06:13:39.838961Z",
     "iopub.status.idle": "2024-09-15T06:13:39.845727Z",
     "shell.execute_reply": "2024-09-15T06:13:39.844657Z",
     "shell.execute_reply.started": "2024-09-15T06:13:39.839324Z"
    }
   },
   "outputs": [
    {
     "name": "stdout",
     "output_type": "stream",
     "text": [
      "il a vu un vieux camion jaune <PAD> <PAD> <PAD> <PAD> <PAD> <PAD> <PAD> <PAD> <PAD> <PAD> <PAD> <PAD> <PAD> <PAD>\n"
     ]
    }
   ],
   "source": [
    " decode(predictions)"
   ]
  },
  {
   "cell_type": "code",
   "execution_count": null,
   "id": "67eaeca7",
   "metadata": {},
   "outputs": [],
   "source": []
  }
 ],
 "metadata": {
  "kaggle": {
   "accelerator": "nvidiaTeslaT4",
   "dataSources": [
    {
     "datasetId": 5704691,
     "sourceId": 9398657,
     "sourceType": "datasetVersion"
    },
    {
     "datasetId": 1148896,
     "sourceId": 1926230,
     "sourceType": "datasetVersion"
    }
   ],
   "dockerImageVersionId": 30762,
   "isGpuEnabled": true,
   "isInternetEnabled": true,
   "language": "python",
   "sourceType": "notebook"
  },
  "kernelspec": {
   "display_name": "Python 3 (ipykernel)",
   "language": "python",
   "name": "python3"
  },
  "language_info": {
   "codemirror_mode": {
    "name": "ipython",
    "version": 3
   },
   "file_extension": ".py",
   "mimetype": "text/x-python",
   "name": "python",
   "nbconvert_exporter": "python",
   "pygments_lexer": "ipython3",
   "version": "3.10.0"
  }
 },
 "nbformat": 4,
 "nbformat_minor": 5
}
