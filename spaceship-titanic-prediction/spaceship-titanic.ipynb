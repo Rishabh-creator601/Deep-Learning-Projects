{
 "cells": [
  {
   "cell_type": "code",
   "execution_count": 1,
   "id": "09caab41",
   "metadata": {
    "execution": {
     "iopub.execute_input": "2025-06-28T11:10:18.905695Z",
     "iopub.status.busy": "2025-06-28T11:10:18.905329Z",
     "iopub.status.idle": "2025-06-28T11:10:25.411624Z",
     "shell.execute_reply": "2025-06-28T11:10:25.410382Z"
    },
    "papermill": {
     "duration": 6.515954,
     "end_time": "2025-06-28T11:10:25.413433",
     "exception": false,
     "start_time": "2025-06-28T11:10:18.897479",
     "status": "completed"
    },
    "tags": []
   },
   "outputs": [
    {
     "name": "stdout",
     "output_type": "stream",
     "text": [
      "Collecting seedtools\r\n",
      "  Downloading seedtools-0.1.3-py3-none-any.whl.metadata (2.5 kB)\r\n",
      "Collecting python-dotenv (from seedtools)\r\n",
      "  Downloading python_dotenv-1.1.1-py3-none-any.whl.metadata (24 kB)\r\n",
      "Downloading seedtools-0.1.3-py3-none-any.whl (8.3 kB)\r\n",
      "Downloading python_dotenv-1.1.1-py3-none-any.whl (20 kB)\r\n",
      "Installing collected packages: python-dotenv, seedtools\r\n",
      "Successfully installed python-dotenv-1.1.1 seedtools-0.1.3\r\n"
     ]
    }
   ],
   "source": [
    "!pip install seedtools"
   ]
  },
  {
   "cell_type": "code",
   "execution_count": 2,
   "id": "deef1b70",
   "metadata": {
    "execution": {
     "iopub.execute_input": "2025-06-28T11:10:25.427204Z",
     "iopub.status.busy": "2025-06-28T11:10:25.426485Z",
     "iopub.status.idle": "2025-06-28T11:10:31.009897Z",
     "shell.execute_reply": "2025-06-28T11:10:31.008534Z"
    },
    "papermill": {
     "duration": 5.592695,
     "end_time": "2025-06-28T11:10:31.011989",
     "exception": false,
     "start_time": "2025-06-28T11:10:25.419294",
     "status": "completed"
    },
    "tags": []
   },
   "outputs": [],
   "source": [
    "import pandas as pd \n",
    "from seedtools import mapper_auto\n",
    "import matplotlib.pyplot as plt \n",
    "import seaborn as sns\n",
    "from sklearn.preprocessing import KBinsDiscretizer,StandardScaler\n",
    "from sklearn.ensemble import RandomForestClassifier,VotingClassifier,BaggingClassifier\n",
    "from sklearn.linear_model import LogisticRegression\n",
    "from xgboost import XGBClassifier\n",
    "from sklearn.svm import SVC \n",
    "from sklearn.naive_bayes import GaussianNB\n",
    "from sklearn.model_selection import train_test_split\n",
    "from sklearn.metrics import r2_score\n",
    "\n",
    "\n",
    "# verbose = 0\n",
    "import warnings \n",
    "warnings.filterwarnings(\"ignore\")"
   ]
  },
  {
   "cell_type": "markdown",
   "id": "e805bb59",
   "metadata": {
    "papermill": {
     "duration": 0.009386,
     "end_time": "2025-06-28T11:10:31.029396",
     "exception": false,
     "start_time": "2025-06-28T11:10:31.020010",
     "status": "completed"
    },
    "tags": []
   },
   "source": [
    "## <center> 1. Data Preprocessing <center/>"
   ]
  },
  {
   "cell_type": "code",
   "execution_count": 3,
   "id": "f5214c32",
   "metadata": {
    "execution": {
     "iopub.execute_input": "2025-06-28T11:10:31.051347Z",
     "iopub.status.busy": "2025-06-28T11:10:31.050653Z",
     "iopub.status.idle": "2025-06-28T11:10:31.193652Z",
     "shell.execute_reply": "2025-06-28T11:10:31.192558Z"
    },
    "papermill": {
     "duration": 0.15718,
     "end_time": "2025-06-28T11:10:31.195565",
     "exception": false,
     "start_time": "2025-06-28T11:10:31.038385",
     "status": "completed"
    },
    "tags": []
   },
   "outputs": [
    {
     "name": "stdout",
     "output_type": "stream",
     "text": [
      "{'HomePlanet': [{'Europa': 0, 'Earth': 1, 'Mars': 2}], 'VIP': [{False: 0, True: 1}], 'Destination': [{'TRAPPIST-1e': 0, 'PSO J318.5-22': 1, '55 Cancri e': 2}], 'CryoSleep': [{False: 0, True: 1}], 'Transported': [{False: 0, True: 1}]}\n"
     ]
    },
    {
     "data": {
      "text/html": [
       "<div>\n",
       "<style scoped>\n",
       "    .dataframe tbody tr th:only-of-type {\n",
       "        vertical-align: middle;\n",
       "    }\n",
       "\n",
       "    .dataframe tbody tr th {\n",
       "        vertical-align: top;\n",
       "    }\n",
       "\n",
       "    .dataframe thead th {\n",
       "        text-align: right;\n",
       "    }\n",
       "</style>\n",
       "<table border=\"1\" class=\"dataframe\">\n",
       "  <thead>\n",
       "    <tr style=\"text-align: right;\">\n",
       "      <th></th>\n",
       "      <th>HomePlanet</th>\n",
       "      <th>CryoSleep</th>\n",
       "      <th>Destination</th>\n",
       "      <th>Age</th>\n",
       "      <th>VIP</th>\n",
       "      <th>RoomService</th>\n",
       "      <th>FoodCourt</th>\n",
       "      <th>ShoppingMall</th>\n",
       "      <th>Spa</th>\n",
       "      <th>VRDeck</th>\n",
       "      <th>Transported</th>\n",
       "    </tr>\n",
       "  </thead>\n",
       "  <tbody>\n",
       "    <tr>\n",
       "      <th>0</th>\n",
       "      <td>0</td>\n",
       "      <td>0</td>\n",
       "      <td>0</td>\n",
       "      <td>39.0</td>\n",
       "      <td>0</td>\n",
       "      <td>0.0</td>\n",
       "      <td>0.0</td>\n",
       "      <td>0.0</td>\n",
       "      <td>0.0</td>\n",
       "      <td>0.0</td>\n",
       "      <td>0</td>\n",
       "    </tr>\n",
       "    <tr>\n",
       "      <th>1</th>\n",
       "      <td>1</td>\n",
       "      <td>0</td>\n",
       "      <td>0</td>\n",
       "      <td>24.0</td>\n",
       "      <td>0</td>\n",
       "      <td>109.0</td>\n",
       "      <td>9.0</td>\n",
       "      <td>25.0</td>\n",
       "      <td>549.0</td>\n",
       "      <td>44.0</td>\n",
       "      <td>1</td>\n",
       "    </tr>\n",
       "    <tr>\n",
       "      <th>2</th>\n",
       "      <td>0</td>\n",
       "      <td>0</td>\n",
       "      <td>0</td>\n",
       "      <td>58.0</td>\n",
       "      <td>1</td>\n",
       "      <td>43.0</td>\n",
       "      <td>3576.0</td>\n",
       "      <td>0.0</td>\n",
       "      <td>6715.0</td>\n",
       "      <td>49.0</td>\n",
       "      <td>0</td>\n",
       "    </tr>\n",
       "    <tr>\n",
       "      <th>3</th>\n",
       "      <td>0</td>\n",
       "      <td>0</td>\n",
       "      <td>0</td>\n",
       "      <td>33.0</td>\n",
       "      <td>0</td>\n",
       "      <td>0.0</td>\n",
       "      <td>1283.0</td>\n",
       "      <td>371.0</td>\n",
       "      <td>3329.0</td>\n",
       "      <td>193.0</td>\n",
       "      <td>0</td>\n",
       "    </tr>\n",
       "    <tr>\n",
       "      <th>4</th>\n",
       "      <td>1</td>\n",
       "      <td>0</td>\n",
       "      <td>0</td>\n",
       "      <td>16.0</td>\n",
       "      <td>0</td>\n",
       "      <td>303.0</td>\n",
       "      <td>70.0</td>\n",
       "      <td>151.0</td>\n",
       "      <td>565.0</td>\n",
       "      <td>2.0</td>\n",
       "      <td>1</td>\n",
       "    </tr>\n",
       "  </tbody>\n",
       "</table>\n",
       "</div>"
      ],
      "text/plain": [
       "   HomePlanet  CryoSleep  Destination   Age  VIP  RoomService  FoodCourt  \\\n",
       "0           0          0            0  39.0    0          0.0        0.0   \n",
       "1           1          0            0  24.0    0        109.0        9.0   \n",
       "2           0          0            0  58.0    1         43.0     3576.0   \n",
       "3           0          0            0  33.0    0          0.0     1283.0   \n",
       "4           1          0            0  16.0    0        303.0       70.0   \n",
       "\n",
       "   ShoppingMall     Spa  VRDeck  Transported  \n",
       "0           0.0     0.0     0.0            0  \n",
       "1          25.0   549.0    44.0            1  \n",
       "2           0.0  6715.0    49.0            0  \n",
       "3         371.0  3329.0   193.0            0  \n",
       "4         151.0   565.0     2.0            1  "
      ]
     },
     "execution_count": 3,
     "metadata": {},
     "output_type": "execute_result"
    }
   ],
   "source": [
    "data = pd.read_csv(\"/kaggle/input/spaceship-titanic/train.csv\").drop(columns=[\"PassengerId\",\"Cabin\",\"Name\"]).dropna()\n",
    "df,mappings =  mapper_auto(data,[\"HomePlanet\",\"VIP\",\"Destination\",\"CryoSleep\",\"Transported\"])\n",
    "cols=  [\"FoodCourt\",\"RoomService\",\"ShoppingMall\",\"Spa\",\"VRDeck\"] # for future use \n",
    "\n",
    "print(mappings)\n",
    "\n",
    "df.head()"
   ]
  },
  {
   "cell_type": "code",
   "execution_count": 4,
   "id": "9af3bca9",
   "metadata": {
    "execution": {
     "iopub.execute_input": "2025-06-28T11:10:31.211675Z",
     "iopub.status.busy": "2025-06-28T11:10:31.211180Z",
     "iopub.status.idle": "2025-06-28T11:10:31.243025Z",
     "shell.execute_reply": "2025-06-28T11:10:31.241967Z"
    },
    "papermill": {
     "duration": 0.043254,
     "end_time": "2025-06-28T11:10:31.245406",
     "exception": false,
     "start_time": "2025-06-28T11:10:31.202152",
     "status": "completed"
    },
    "tags": []
   },
   "outputs": [
    {
     "data": {
      "text/html": [
       "<div>\n",
       "<style scoped>\n",
       "    .dataframe tbody tr th:only-of-type {\n",
       "        vertical-align: middle;\n",
       "    }\n",
       "\n",
       "    .dataframe tbody tr th {\n",
       "        vertical-align: top;\n",
       "    }\n",
       "\n",
       "    .dataframe thead th {\n",
       "        text-align: right;\n",
       "    }\n",
       "</style>\n",
       "<table border=\"1\" class=\"dataframe\">\n",
       "  <thead>\n",
       "    <tr style=\"text-align: right;\">\n",
       "      <th></th>\n",
       "      <th>HomePlanet</th>\n",
       "      <th>CryoSleep</th>\n",
       "      <th>Destination</th>\n",
       "      <th>VIP</th>\n",
       "      <th>RoomService</th>\n",
       "      <th>FoodCourt</th>\n",
       "      <th>ShoppingMall</th>\n",
       "      <th>Spa</th>\n",
       "      <th>VRDeck</th>\n",
       "      <th>Transported</th>\n",
       "      <th>Age_bin</th>\n",
       "    </tr>\n",
       "  </thead>\n",
       "  <tbody>\n",
       "    <tr>\n",
       "      <th>0</th>\n",
       "      <td>0</td>\n",
       "      <td>0</td>\n",
       "      <td>0</td>\n",
       "      <td>0</td>\n",
       "      <td>-0.335500</td>\n",
       "      <td>-0.287229</td>\n",
       "      <td>-0.283044</td>\n",
       "      <td>-0.274495</td>\n",
       "      <td>-0.269928</td>\n",
       "      <td>0</td>\n",
       "      <td>6.0</td>\n",
       "    </tr>\n",
       "    <tr>\n",
       "      <th>1</th>\n",
       "      <td>1</td>\n",
       "      <td>0</td>\n",
       "      <td>0</td>\n",
       "      <td>0</td>\n",
       "      <td>-0.173745</td>\n",
       "      <td>-0.281849</td>\n",
       "      <td>-0.243585</td>\n",
       "      <td>0.199122</td>\n",
       "      <td>-0.230830</td>\n",
       "      <td>1</td>\n",
       "      <td>3.0</td>\n",
       "    </tr>\n",
       "    <tr>\n",
       "      <th>2</th>\n",
       "      <td>0</td>\n",
       "      <td>0</td>\n",
       "      <td>0</td>\n",
       "      <td>1</td>\n",
       "      <td>-0.271688</td>\n",
       "      <td>1.850701</td>\n",
       "      <td>-0.283044</td>\n",
       "      <td>5.518474</td>\n",
       "      <td>-0.226387</td>\n",
       "      <td>0</td>\n",
       "      <td>7.0</td>\n",
       "    </tr>\n",
       "    <tr>\n",
       "      <th>3</th>\n",
       "      <td>0</td>\n",
       "      <td>0</td>\n",
       "      <td>0</td>\n",
       "      <td>0</td>\n",
       "      <td>-0.335500</td>\n",
       "      <td>0.479819</td>\n",
       "      <td>0.302527</td>\n",
       "      <td>2.597403</td>\n",
       "      <td>-0.098429</td>\n",
       "      <td>0</td>\n",
       "      <td>5.0</td>\n",
       "    </tr>\n",
       "    <tr>\n",
       "      <th>4</th>\n",
       "      <td>1</td>\n",
       "      <td>0</td>\n",
       "      <td>0</td>\n",
       "      <td>0</td>\n",
       "      <td>0.114149</td>\n",
       "      <td>-0.245379</td>\n",
       "      <td>-0.044712</td>\n",
       "      <td>0.212925</td>\n",
       "      <td>-0.268151</td>\n",
       "      <td>1</td>\n",
       "      <td>1.0</td>\n",
       "    </tr>\n",
       "  </tbody>\n",
       "</table>\n",
       "</div>"
      ],
      "text/plain": [
       "   HomePlanet  CryoSleep  Destination  VIP  RoomService  FoodCourt  \\\n",
       "0           0          0            0    0    -0.335500  -0.287229   \n",
       "1           1          0            0    0    -0.173745  -0.281849   \n",
       "2           0          0            0    1    -0.271688   1.850701   \n",
       "3           0          0            0    0    -0.335500   0.479819   \n",
       "4           1          0            0    0     0.114149  -0.245379   \n",
       "\n",
       "   ShoppingMall       Spa    VRDeck  Transported  Age_bin  \n",
       "0     -0.283044 -0.274495 -0.269928            0      6.0  \n",
       "1     -0.243585  0.199122 -0.230830            1      3.0  \n",
       "2     -0.283044  5.518474 -0.226387            0      7.0  \n",
       "3      0.302527  2.597403 -0.098429            0      5.0  \n",
       "4     -0.044712  0.212925 -0.268151            1      1.0  "
      ]
     },
     "execution_count": 4,
     "metadata": {},
     "output_type": "execute_result"
    }
   ],
   "source": [
    "ss = StandardScaler()\n",
    "\n",
    "\n",
    "# Age Column  =>  bins [0-10,10-20]\n",
    "kbin = KBinsDiscretizer(n_bins=8,encode=\"ordinal\",strategy=\"quantile\")\n",
    "df[\"Age_bin\"]  = kbin.fit_transform(data[\"Age\"].values.reshape(-1,1))\n",
    "df = df.drop(columns=[\"Age\"])\n",
    "\n",
    "# Just Scale Data \n",
    "for col in cols:\n",
    "    df[col] =  ss.fit_transform(df[col].values.reshape(-1,1))\n",
    "    \n",
    "df.head()"
   ]
  },
  {
   "cell_type": "markdown",
   "id": "eac3e16e",
   "metadata": {
    "papermill": {
     "duration": 0.006398,
     "end_time": "2025-06-28T11:10:31.258378",
     "exception": false,
     "start_time": "2025-06-28T11:10:31.251980",
     "status": "completed"
    },
    "tags": []
   },
   "source": [
    "**CryoSleep** has very high correlation ~46% <br />\n",
    "=>  where a person (or other lifeform) is put into a state of deep, preserved unconsciousness by cooling their body to extremely low temperatures."
   ]
  },
  {
   "cell_type": "markdown",
   "id": "50611567",
   "metadata": {
    "papermill": {
     "duration": 0.006383,
     "end_time": "2025-06-28T11:10:31.270921",
     "exception": false,
     "start_time": "2025-06-28T11:10:31.264538",
     "status": "completed"
    },
    "tags": []
   },
   "source": [
    "I Tried adding all the cols like : `df[\"TotalBill\"] = [\"FoodCourt\",\"RoomService\",\"ShoppingMall\",\"Spa\",\"VRDeck\"]` still have negative corr"
   ]
  },
  {
   "cell_type": "markdown",
   "id": "6fbbc42b",
   "metadata": {
    "papermill": {
     "duration": 0.005764,
     "end_time": "2025-06-28T11:10:31.282760",
     "exception": false,
     "start_time": "2025-06-28T11:10:31.276996",
     "status": "completed"
    },
    "tags": []
   },
   "source": [
    "## <center> 2. EDA and Analysis <center/>"
   ]
  },
  {
   "cell_type": "code",
   "execution_count": 5,
   "id": "9d4fc00f",
   "metadata": {
    "execution": {
     "iopub.execute_input": "2025-06-28T11:10:31.297510Z",
     "iopub.status.busy": "2025-06-28T11:10:31.297055Z",
     "iopub.status.idle": "2025-06-28T11:10:31.313547Z",
     "shell.execute_reply": "2025-06-28T11:10:31.312485Z"
    },
    "papermill": {
     "duration": 0.025688,
     "end_time": "2025-06-28T11:10:31.315354",
     "exception": false,
     "start_time": "2025-06-28T11:10:31.289666",
     "status": "completed"
    },
    "tags": []
   },
   "outputs": [
    {
     "data": {
      "text/plain": [
       "HomePlanet     -0.109052\n",
       "CryoSleep       0.462165\n",
       "Destination     0.119065\n",
       "VIP            -0.041231\n",
       "RoomService    -0.242456\n",
       "FoodCourt       0.051395\n",
       "ShoppingMall    0.012922\n",
       "Spa            -0.220362\n",
       "VRDeck         -0.207137\n",
       "Transported     1.000000\n",
       "Age_bin        -0.077485\n",
       "Name: Transported, dtype: float64"
      ]
     },
     "execution_count": 5,
     "metadata": {},
     "output_type": "execute_result"
    }
   ],
   "source": [
    "df.corr()[\"Transported\"]"
   ]
  },
  {
   "cell_type": "code",
   "execution_count": 6,
   "id": "707349c1",
   "metadata": {
    "execution": {
     "iopub.execute_input": "2025-06-28T11:10:31.329753Z",
     "iopub.status.busy": "2025-06-28T11:10:31.329431Z",
     "iopub.status.idle": "2025-06-28T11:10:32.157021Z",
     "shell.execute_reply": "2025-06-28T11:10:32.155966Z"
    },
    "papermill": {
     "duration": 0.836952,
     "end_time": "2025-06-28T11:10:32.159026",
     "exception": false,
     "start_time": "2025-06-28T11:10:31.322074",
     "status": "completed"
    },
    "tags": []
   },
   "outputs": [
    {
     "data": {
      "text/plain": [
       "<Axes: xlabel='CryoSleep', ylabel='Transported'>"
      ]
     },
     "execution_count": 6,
     "metadata": {},
     "output_type": "execute_result"
    },
    {
     "data": {
      "image/png": "[encoded data removed]",
      "text/plain": [
       "<Figure size 1200x800 with 2 Axes>"
      ]
     },
     "metadata": {},
     "output_type": "display_data"
    }
   ],
   "source": [
    "plt.figure(figsize=(12, 8))\n",
    "plt.subplot(2,2,1)\n",
    "sns.barplot(df,x=\"CryoSleep\",y=\"Transported\",hue=\"Destination\")\n",
    "\n",
    "plt.subplot(2,2,2)\n",
    "sns.barplot(df,x=\"CryoSleep\",y=\"Transported\",hue=\"VIP\")"
   ]
  },
  {
   "cell_type": "code",
   "execution_count": 7,
   "id": "712cc2b9",
   "metadata": {
    "execution": {
     "iopub.execute_input": "2025-06-28T11:10:32.173760Z",
     "iopub.status.busy": "2025-06-28T11:10:32.173406Z",
     "iopub.status.idle": "2025-06-28T11:10:32.782103Z",
     "shell.execute_reply": "2025-06-28T11:10:32.780460Z"
    },
    "papermill": {
     "duration": 0.61886,
     "end_time": "2025-06-28T11:10:32.784725",
     "exception": false,
     "start_time": "2025-06-28T11:10:32.165865",
     "status": "completed"
    },
    "tags": []
   },
   "outputs": [
    {
     "data": {
      "text/plain": [
       "<Axes: xlabel='Age_bin', ylabel='count'>"
      ]
     },
     "execution_count": 7,
     "metadata": {},
     "output_type": "execute_result"
    },
    {
     "data": {
      "image/png": "[encoded data removed]",
      "text/plain": [
       "<Figure size 1200x800 with 3 Axes>"
      ]
     },
     "metadata": {},
     "output_type": "display_data"
    }
   ],
   "source": [
    "plt.figure(figsize=(12, 8))\n",
    "plt.subplot(2,2,1)\n",
    "sns.countplot(df,x=\"HomePlanet\",hue=\"Transported\")\n",
    "\n",
    "\n",
    "plt.subplot(2,2,2)\n",
    "sns.countplot(df,x=\"Destination\",hue=\"Transported\")\n",
    "\n",
    "plt.subplot(2,2,3)\n",
    "sns.countplot(df,x=\"Age_bin\",hue=\"Transported\")\n"
   ]
  },
  {
   "cell_type": "markdown",
   "id": "bd5e436f",
   "metadata": {
    "papermill": {
     "duration": 0.007414,
     "end_time": "2025-06-28T11:10:32.799674",
     "exception": false,
     "start_time": "2025-06-28T11:10:32.792260",
     "status": "completed"
    },
    "tags": []
   },
   "source": [
    "\n",
    "HomePlanet   `Europa` and    `Mars` has more chance of transportationHomePlanet    <br />\n",
    "Destination `55 Cancri e` has more chance of transportation"
   ]
  },
  {
   "cell_type": "code",
   "execution_count": 8,
   "id": "de2c721e",
   "metadata": {
    "execution": {
     "iopub.execute_input": "2025-06-28T11:10:32.818144Z",
     "iopub.status.busy": "2025-06-28T11:10:32.817746Z",
     "iopub.status.idle": "2025-06-28T11:10:33.120179Z",
     "shell.execute_reply": "2025-06-28T11:10:33.119062Z"
    },
    "papermill": {
     "duration": 0.313651,
     "end_time": "2025-06-28T11:10:33.122096",
     "exception": false,
     "start_time": "2025-06-28T11:10:32.808445",
     "status": "completed"
    },
    "tags": []
   },
   "outputs": [
    {
     "name": "stdout",
     "output_type": "stream",
     "text": [
      "Age skewness : 0.41075188970350823\n"
     ]
    },
    {
     "data": {
      "text/plain": [
       "<Axes: xlabel='Age', ylabel='Density'>"
      ]
     },
     "execution_count": 8,
     "metadata": {},
     "output_type": "execute_result"
    },
    {
     "data": {
      "image/png": "[encoded data removed]",
      "text/plain": [
       "<Figure size 640x480 with 1 Axes>"
      ]
     },
     "metadata": {},
     "output_type": "display_data"
    }
   ],
   "source": [
    "\n",
    "print(\"Age skewness :\",data.Age.skew())\n",
    "sns.kdeplot(data.Age)"
   ]
  },
  {
   "cell_type": "code",
   "execution_count": 9,
   "id": "05c5d598",
   "metadata": {
    "execution": {
     "iopub.execute_input": "2025-06-28T11:10:33.142283Z",
     "iopub.status.busy": "2025-06-28T11:10:33.140803Z",
     "iopub.status.idle": "2025-06-28T11:10:33.153679Z",
     "shell.execute_reply": "2025-06-28T11:10:33.152557Z"
    },
    "papermill": {
     "duration": 0.024452,
     "end_time": "2025-06-28T11:10:33.155536",
     "exception": false,
     "start_time": "2025-06-28T11:10:33.131084",
     "status": "completed"
    },
    "tags": []
   },
   "outputs": [
    {
     "data": {
      "text/plain": [
       "(5953, 10)"
      ]
     },
     "execution_count": 9,
     "metadata": {},
     "output_type": "execute_result"
    }
   ],
   "source": [
    "x =  df.drop(columns=[\"Transported\"]).values\n",
    "y =  df[\"Transported\"].values\n",
    "x_train,x_test,y_train,y_test = train_test_split(x,y,test_size=0.14)\n",
    "x_train.shape"
   ]
  },
  {
   "cell_type": "markdown",
   "id": "a359679d",
   "metadata": {
    "papermill": {
     "duration": 0.007884,
     "end_time": "2025-06-28T11:10:33.172623",
     "exception": false,
     "start_time": "2025-06-28T11:10:33.164739",
     "status": "completed"
    },
    "tags": []
   },
   "source": [
    "## <center> 3. Model Building <center/>"
   ]
  },
  {
   "cell_type": "code",
   "execution_count": 10,
   "id": "5a932dfd",
   "metadata": {
    "execution": {
     "iopub.execute_input": "2025-06-28T11:10:33.191878Z",
     "iopub.status.busy": "2025-06-28T11:10:33.191535Z",
     "iopub.status.idle": "2025-06-28T11:10:33.198291Z",
     "shell.execute_reply": "2025-06-28T11:10:33.197200Z"
    },
    "papermill": {
     "duration": 0.018077,
     "end_time": "2025-06-28T11:10:33.200234",
     "exception": false,
     "start_time": "2025-06-28T11:10:33.182157",
     "status": "completed"
    },
    "tags": []
   },
   "outputs": [],
   "source": [
    "def score_model(model):\n",
    "    if \"model_\" in (locals() or globals()):\n",
    "        del model_\n",
    "        \n",
    "    print(f\"{model.__name__} :\")\n",
    "    model_ =  model()\n",
    "    model_.fit(x_train,y_train)\n",
    "    score =model_.score(x_test,y_test)\n",
    "    pred =  model_.predict(x_test)\n",
    "    \n",
    "    r2  = r2_score(y_test,pred)\n",
    "    \n",
    "    print(f\"|| Score : {score}\")\n",
    "    print(f\"|| R2 Score : {r2}\")\n",
    "    "
   ]
  },
  {
   "cell_type": "markdown",
   "id": "4f1e12d2",
   "metadata": {
    "papermill": {
     "duration": 0.00841,
     "end_time": "2025-06-28T11:10:33.218110",
     "exception": false,
     "start_time": "2025-06-28T11:10:33.209700",
     "status": "completed"
    },
    "tags": []
   },
   "source": [
    "### Voting Classifier "
   ]
  },
  {
   "cell_type": "code",
   "execution_count": 11,
   "id": "31210d71",
   "metadata": {
    "execution": {
     "iopub.execute_input": "2025-06-28T11:10:33.235693Z",
     "iopub.status.busy": "2025-06-28T11:10:33.235378Z",
     "iopub.status.idle": "2025-06-28T11:10:35.758458Z",
     "shell.execute_reply": "2025-06-28T11:10:35.757015Z"
    },
    "papermill": {
     "duration": 2.534679,
     "end_time": "2025-06-28T11:10:35.760842",
     "exception": false,
     "start_time": "2025-06-28T11:10:33.226163",
     "status": "completed"
    },
    "tags": []
   },
   "outputs": [
    {
     "name": "stdout",
     "output_type": "stream",
     "text": [
      "Voting Classifer :\n",
      "|| Score : 0.7793814432989691\n",
      "|| R2 Score : 0.11413634908780546\n"
     ]
    }
   ],
   "source": [
    "clf1 = LogisticRegression()\n",
    "clf2 = RandomForestClassifier()\n",
    "clf3 = SVC()\n",
    "voting = VotingClassifier(estimators=[\n",
    "        ('lr', clf1), ('rf', clf2), ('gnb', clf3)])\n",
    "\n",
    "voting.fit(x_train,y_train)\n",
    "score =voting.score(x_test,y_test)\n",
    "pred =  voting.predict(x_test)              \n",
    "r2  = r2_score(y_test,pred) \n",
    "print(\"Voting Classifer :\")              \n",
    "print(f\"|| Score : {score}\")\n",
    "print(f\"|| R2 Score : {r2}\")"
   ]
  },
  {
   "cell_type": "markdown",
   "id": "20f3cf71",
   "metadata": {
    "papermill": {
     "duration": 0.008386,
     "end_time": "2025-06-28T11:10:35.778054",
     "exception": false,
     "start_time": "2025-06-28T11:10:35.769668",
     "status": "completed"
    },
    "tags": []
   },
   "source": [
    "### BaggingClassifer"
   ]
  },
  {
   "cell_type": "code",
   "execution_count": 12,
   "id": "ae0f3950",
   "metadata": {
    "execution": {
     "iopub.execute_input": "2025-06-28T11:10:35.795607Z",
     "iopub.status.busy": "2025-06-28T11:10:35.795283Z",
     "iopub.status.idle": "2025-06-28T11:10:42.154151Z",
     "shell.execute_reply": "2025-06-28T11:10:42.152617Z"
    },
    "papermill": {
     "duration": 6.369897,
     "end_time": "2025-06-28T11:10:42.156143",
     "exception": false,
     "start_time": "2025-06-28T11:10:35.786246",
     "status": "completed"
    },
    "tags": []
   },
   "outputs": [
    {
     "name": "stdout",
     "output_type": "stream",
     "text": [
      "Bagging  Classifer (RandomForestClassifier): \n",
      "|| Score : 0.7752577319587629\n",
      "|| R2 Score : 0.09757815000533454\n"
     ]
    }
   ],
   "source": [
    "base_model =  RandomForestClassifier()\n",
    "bagg =  BaggingClassifier(estimator=base_model)\n",
    "bagg.fit(x_train,y_train)\n",
    "score =bagg.score(x_test,y_test)\n",
    "pred =  bagg.predict(x_test)              \n",
    "r2  = r2_score(y_test,pred) \n",
    "print(f\"Bagging  Classifer ({type(base_model).__name__}): \")              \n",
    "print(f\"|| Score : {score}\")\n",
    "print(f\"|| R2 Score : {r2}\")"
   ]
  },
  {
   "cell_type": "markdown",
   "id": "88e12260",
   "metadata": {
    "papermill": {
     "duration": 0.007853,
     "end_time": "2025-06-28T11:10:42.172238",
     "exception": false,
     "start_time": "2025-06-28T11:10:42.164385",
     "status": "completed"
    },
    "tags": []
   },
   "source": [
    "### Multiple Models"
   ]
  },
  {
   "cell_type": "code",
   "execution_count": 13,
   "id": "35c08b7f",
   "metadata": {
    "execution": {
     "iopub.execute_input": "2025-06-28T11:10:42.191154Z",
     "iopub.status.busy": "2025-06-28T11:10:42.190757Z",
     "iopub.status.idle": "2025-06-28T11:10:44.955539Z",
     "shell.execute_reply": "2025-06-28T11:10:44.954509Z"
    },
    "papermill": {
     "duration": 2.775693,
     "end_time": "2025-06-28T11:10:44.957170",
     "exception": false,
     "start_time": "2025-06-28T11:10:42.181477",
     "status": "completed"
    },
    "tags": []
   },
   "outputs": [
    {
     "name": "stdout",
     "output_type": "stream",
     "text": [
      "RandomForestClassifier :\n",
      "|| Score : 0.7731958762886598\n",
      "|| R2 Score : 0.08929905046409914\n",
      "LogisticRegression :\n",
      "|| Score : 0.7639175257731958\n",
      "|| R2 Score : 0.0520431025285395\n",
      "GaussianNB :\n",
      "|| Score : 0.7010309278350515\n",
      "|| R2 Score : -0.20046943347914215\n",
      "XGBClassifier :\n",
      "|| Score : 0.7783505154639175\n",
      "|| R2 Score : 0.10999679931718775\n",
      "SVC :\n",
      "|| Score : 0.7742268041237114\n",
      "|| R2 Score : 0.09343860023471684\n"
     ]
    }
   ],
   "source": [
    "score_model(RandomForestClassifier)\n",
    "score_model(LogisticRegression)\n",
    "score_model(GaussianNB)\n",
    "score_model(XGBClassifier)\n",
    "score_model(SVC)"
   ]
  },
  {
   "cell_type": "markdown",
   "id": "fc730ce0",
   "metadata": {
    "papermill": {
     "duration": 0.009321,
     "end_time": "2025-06-28T11:10:44.976024",
     "exception": false,
     "start_time": "2025-06-28T11:10:44.966703",
     "status": "completed"
    },
    "tags": []
   },
   "source": [
    "**FINAL MODEL :  Voting Classifer**"
   ]
  },
  {
   "cell_type": "markdown",
   "id": "3a03ad10",
   "metadata": {
    "papermill": {
     "duration": 0.008501,
     "end_time": "2025-06-28T11:10:44.993164",
     "exception": false,
     "start_time": "2025-06-28T11:10:44.984663",
     "status": "completed"
    },
    "tags": []
   },
   "source": [
    "## <center> 4. Making Predictions <center/> "
   ]
  },
  {
   "cell_type": "code",
   "execution_count": 14,
   "id": "0ea546e2",
   "metadata": {
    "execution": {
     "iopub.execute_input": "2025-06-28T11:10:45.012008Z",
     "iopub.status.busy": "2025-06-28T11:10:45.011643Z",
     "iopub.status.idle": "2025-06-28T11:10:45.065053Z",
     "shell.execute_reply": "2025-06-28T11:10:45.064124Z"
    },
    "papermill": {
     "duration": 0.064426,
     "end_time": "2025-06-28T11:10:45.066712",
     "exception": false,
     "start_time": "2025-06-28T11:10:45.002286",
     "status": "completed"
    },
    "tags": []
   },
   "outputs": [
    {
     "data": {
      "text/html": [
       "<div>\n",
       "<style scoped>\n",
       "    .dataframe tbody tr th:only-of-type {\n",
       "        vertical-align: middle;\n",
       "    }\n",
       "\n",
       "    .dataframe tbody tr th {\n",
       "        vertical-align: top;\n",
       "    }\n",
       "\n",
       "    .dataframe thead th {\n",
       "        text-align: right;\n",
       "    }\n",
       "</style>\n",
       "<table border=\"1\" class=\"dataframe\">\n",
       "  <thead>\n",
       "    <tr style=\"text-align: right;\">\n",
       "      <th></th>\n",
       "      <th>PassengerId</th>\n",
       "      <th>HomePlanet</th>\n",
       "      <th>CryoSleep</th>\n",
       "      <th>Destination</th>\n",
       "      <th>VIP</th>\n",
       "      <th>RoomService</th>\n",
       "      <th>FoodCourt</th>\n",
       "      <th>ShoppingMall</th>\n",
       "      <th>Spa</th>\n",
       "      <th>VRDeck</th>\n",
       "      <th>Age_bin</th>\n",
       "    </tr>\n",
       "  </thead>\n",
       "  <tbody>\n",
       "    <tr>\n",
       "      <th>0</th>\n",
       "      <td>0013_01</td>\n",
       "      <td>0</td>\n",
       "      <td>0</td>\n",
       "      <td>0</td>\n",
       "      <td>0</td>\n",
       "      <td>-0.357339</td>\n",
       "      <td>-0.283840</td>\n",
       "      <td>-0.312173</td>\n",
       "      <td>-0.267841</td>\n",
       "      <td>-0.246712</td>\n",
       "      <td>4.0</td>\n",
       "    </tr>\n",
       "    <tr>\n",
       "      <th>1</th>\n",
       "      <td>0018_01</td>\n",
       "      <td>0</td>\n",
       "      <td>1</td>\n",
       "      <td>0</td>\n",
       "      <td>0</td>\n",
       "      <td>-0.357339</td>\n",
       "      <td>-0.277879</td>\n",
       "      <td>-0.312173</td>\n",
       "      <td>2.287504</td>\n",
       "      <td>-0.246712</td>\n",
       "      <td>2.0</td>\n",
       "    </tr>\n",
       "    <tr>\n",
       "      <th>2</th>\n",
       "      <td>0019_01</td>\n",
       "      <td>1</td>\n",
       "      <td>0</td>\n",
       "      <td>1</td>\n",
       "      <td>0</td>\n",
       "      <td>-0.357339</td>\n",
       "      <td>-0.283840</td>\n",
       "      <td>-0.312173</td>\n",
       "      <td>-0.267841</td>\n",
       "      <td>-0.246712</td>\n",
       "      <td>4.0</td>\n",
       "    </tr>\n",
       "    <tr>\n",
       "      <th>3</th>\n",
       "      <td>0021_01</td>\n",
       "      <td>1</td>\n",
       "      <td>1</td>\n",
       "      <td>0</td>\n",
       "      <td>0</td>\n",
       "      <td>-0.357339</td>\n",
       "      <td>4.121518</td>\n",
       "      <td>-0.312173</td>\n",
       "      <td>-0.104002</td>\n",
       "      <td>0.226648</td>\n",
       "      <td>6.0</td>\n",
       "    </tr>\n",
       "    <tr>\n",
       "      <th>4</th>\n",
       "      <td>0023_01</td>\n",
       "      <td>0</td>\n",
       "      <td>1</td>\n",
       "      <td>0</td>\n",
       "      <td>0</td>\n",
       "      <td>-0.340723</td>\n",
       "      <td>-0.283840</td>\n",
       "      <td>0.832122</td>\n",
       "      <td>-0.267841</td>\n",
       "      <td>-0.246712</td>\n",
       "      <td>2.0</td>\n",
       "    </tr>\n",
       "  </tbody>\n",
       "</table>\n",
       "</div>"
      ],
      "text/plain": [
       "  PassengerId  HomePlanet  CryoSleep  Destination  VIP  RoomService  \\\n",
       "0     0013_01           0          0            0    0    -0.357339   \n",
       "1     0018_01           0          1            0    0    -0.357339   \n",
       "2     0019_01           1          0            1    0    -0.357339   \n",
       "3     0021_01           1          1            0    0    -0.357339   \n",
       "4     0023_01           0          1            0    0    -0.340723   \n",
       "\n",
       "   FoodCourt  ShoppingMall       Spa    VRDeck  Age_bin  \n",
       "0  -0.283840     -0.312173 -0.267841 -0.246712      4.0  \n",
       "1  -0.277879     -0.312173  2.287504 -0.246712      2.0  \n",
       "2  -0.283840     -0.312173 -0.267841 -0.246712      4.0  \n",
       "3   4.121518     -0.312173 -0.104002  0.226648      6.0  \n",
       "4  -0.283840      0.832122 -0.267841 -0.246712      2.0  "
      ]
     },
     "execution_count": 14,
     "metadata": {},
     "output_type": "execute_result"
    }
   ],
   "source": [
    "test_data = pd.read_csv(\"/kaggle/input/spaceship-titanic/test.csv\").drop(columns=[\"Cabin\",\"Name\"]).fillna(0)\n",
    "df_test,mappings =  mapper_auto(test_data,[\"HomePlanet\",\"VIP\",\"Destination\",\"CryoSleep\",\"Transported\"])\n",
    "\n",
    "df_test[\"Age_bin\"]  = kbin.transform(df_test[\"Age\"].values.reshape(-1,1))\n",
    "df_test = df_test.drop(columns=[\"Age\"])\n",
    "\n",
    "# Just Scale Data \n",
    "for col in cols:\n",
    "    df_test[col] =  ss.fit_transform(df_test[col].values.reshape(-1,1))\n",
    "\n",
    "df_test.head()"
   ]
  },
  {
   "cell_type": "code",
   "execution_count": 15,
   "id": "4456d0ea",
   "metadata": {
    "execution": {
     "iopub.execute_input": "2025-06-28T11:10:45.085474Z",
     "iopub.status.busy": "2025-06-28T11:10:45.085165Z",
     "iopub.status.idle": "2025-06-28T11:10:45.888262Z",
     "shell.execute_reply": "2025-06-28T11:10:45.887011Z"
    },
    "papermill": {
     "duration": 0.814667,
     "end_time": "2025-06-28T11:10:45.890160",
     "exception": false,
     "start_time": "2025-06-28T11:10:45.075493",
     "status": "completed"
    },
    "tags": []
   },
   "outputs": [
    {
     "data": {
      "text/plain": [
       "array([0, 0, 0, ..., 0, 1, 0])"
      ]
     },
     "execution_count": 15,
     "metadata": {},
     "output_type": "execute_result"
    }
   ],
   "source": [
    "test_X =  test_data.drop(columns=[\"PassengerId\",\"Age\"])\n",
    "\n",
    "preds =  voting.predict(test_X)\n",
    "preds"
   ]
  },
  {
   "cell_type": "markdown",
   "id": "210f2efd",
   "metadata": {
    "papermill": {
     "duration": 0.008398,
     "end_time": "2025-06-28T11:10:45.907363",
     "exception": false,
     "start_time": "2025-06-28T11:10:45.898965",
     "status": "completed"
    },
    "tags": []
   },
   "source": [
    "## <center>  5. Submission <center/>"
   ]
  },
  {
   "cell_type": "code",
   "execution_count": 16,
   "id": "5afca085",
   "metadata": {
    "execution": {
     "iopub.execute_input": "2025-06-28T11:10:45.926748Z",
     "iopub.status.busy": "2025-06-28T11:10:45.926410Z",
     "iopub.status.idle": "2025-06-28T11:10:45.937847Z",
     "shell.execute_reply": "2025-06-28T11:10:45.936877Z"
    },
    "papermill": {
     "duration": 0.023041,
     "end_time": "2025-06-28T11:10:45.939693",
     "exception": false,
     "start_time": "2025-06-28T11:10:45.916652",
     "status": "completed"
    },
    "tags": []
   },
   "outputs": [
    {
     "data": {
      "text/html": [
       "<div>\n",
       "<style scoped>\n",
       "    .dataframe tbody tr th:only-of-type {\n",
       "        vertical-align: middle;\n",
       "    }\n",
       "\n",
       "    .dataframe tbody tr th {\n",
       "        vertical-align: top;\n",
       "    }\n",
       "\n",
       "    .dataframe thead th {\n",
       "        text-align: right;\n",
       "    }\n",
       "</style>\n",
       "<table border=\"1\" class=\"dataframe\">\n",
       "  <thead>\n",
       "    <tr style=\"text-align: right;\">\n",
       "      <th></th>\n",
       "      <th>PassengerId</th>\n",
       "      <th>Transported</th>\n",
       "    </tr>\n",
       "  </thead>\n",
       "  <tbody>\n",
       "    <tr>\n",
       "      <th>0</th>\n",
       "      <td>0013_01</td>\n",
       "      <td>False</td>\n",
       "    </tr>\n",
       "    <tr>\n",
       "      <th>1</th>\n",
       "      <td>0018_01</td>\n",
       "      <td>False</td>\n",
       "    </tr>\n",
       "    <tr>\n",
       "      <th>2</th>\n",
       "      <td>0019_01</td>\n",
       "      <td>False</td>\n",
       "    </tr>\n",
       "    <tr>\n",
       "      <th>3</th>\n",
       "      <td>0021_01</td>\n",
       "      <td>False</td>\n",
       "    </tr>\n",
       "    <tr>\n",
       "      <th>4</th>\n",
       "      <td>0023_01</td>\n",
       "      <td>True</td>\n",
       "    </tr>\n",
       "  </tbody>\n",
       "</table>\n",
       "</div>"
      ],
      "text/plain": [
       "  PassengerId  Transported\n",
       "0     0013_01        False\n",
       "1     0018_01        False\n",
       "2     0019_01        False\n",
       "3     0021_01        False\n",
       "4     0023_01         True"
      ]
     },
     "execution_count": 16,
     "metadata": {},
     "output_type": "execute_result"
    }
   ],
   "source": [
    "predictions =  pd.DataFrame({\"PassengerId\":test_data[\"PassengerId\"].values,\"Transported\":preds})\n",
    "predictions[\"Transported\"] =  predictions[\"Transported\"].map({0:False,1:True})\n",
    "predictions.head()"
   ]
  },
  {
   "cell_type": "code",
   "execution_count": 17,
   "id": "f4e6cec1",
   "metadata": {
    "execution": {
     "iopub.execute_input": "2025-06-28T11:10:45.959114Z",
     "iopub.status.busy": "2025-06-28T11:10:45.958742Z",
     "iopub.status.idle": "2025-06-28T11:10:45.975060Z",
     "shell.execute_reply": "2025-06-28T11:10:45.973697Z"
    },
    "papermill": {
     "duration": 0.028322,
     "end_time": "2025-06-28T11:10:45.977091",
     "exception": false,
     "start_time": "2025-06-28T11:10:45.948769",
     "status": "completed"
    },
    "tags": []
   },
   "outputs": [],
   "source": [
    "predictions.to_csv(\"spaceship_submission.csv\",index=False)"
   ]
  }
 ],
 "metadata": {
  "kaggle": {
   "accelerator": "none",
   "dataSources": [
    {
     "databundleVersionId": 3220602,
     "sourceId": 34377,
     "sourceType": "competition"
    }
   ],
   "dockerImageVersionId": 31040,
   "isGpuEnabled": false,
   "isInternetEnabled": true,
   "language": "python",
   "sourceType": "notebook"
  },
  "kernelspec": {
   "display_name": "Python 3",
   "language": "python",
   "name": "python3"
  },
  "language_info": {
   "codemirror_mode": {
    "name": "ipython",
    "version": 3
   },
   "file_extension": ".py",
   "mimetype": "text/x-python",
   "name": "python",
   "nbconvert_exporter": "python",
   "pygments_lexer": "ipython3",
   "version": "3.11.11"
  },
  "papermill": {
   "default_parameters": {},
   "duration": 33.327816,
   "end_time": "2025-06-28T11:10:46.707411",
   "environment_variables": {},
   "exception": null,
   "input_path": "__notebook__.ipynb",
   "output_path": "__notebook__.ipynb",
   "parameters": {},
   "start_time": "2025-06-28T11:10:13.379595",
   "version": "2.6.0"
  }
 },
 "nbformat": 4,
 "nbformat_minor": 5
}
