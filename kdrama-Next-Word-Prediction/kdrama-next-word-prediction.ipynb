{
 "cells": [
  {
   "cell_type": "code",
   "execution_count": 1,
   "id": "b92300eb",
   "metadata": {
    "execution": {
     "iopub.execute_input": "2025-06-21T08:40:33.022873Z",
     "iopub.status.busy": "2025-06-21T08:40:33.022239Z",
     "iopub.status.idle": "2025-06-21T08:40:47.949251Z",
     "shell.execute_reply": "2025-06-21T08:40:47.948452Z"
    },
    "papermill": {
     "duration": 14.932888,
     "end_time": "2025-06-21T08:40:47.950798",
     "exception": false,
     "start_time": "2025-06-21T08:40:33.017910",
     "status": "completed"
    },
    "tags": []
   },
   "outputs": [
    {
     "name": "stderr",
     "output_type": "stream",
     "text": [
      "2025-06-21 08:40:34.490694: E external/local_xla/xla/stream_executor/cuda/cuda_fft.cc:477] Unable to register cuFFT factory: Attempting to register factory for plugin cuFFT when one has already been registered\n",
      "WARNING: All log messages before absl::InitializeLog() is called are written to STDERR\n",
      "E0000 00:00:1750495234.682100      19 cuda_dnn.cc:8310] Unable to register cuDNN factory: Attempting to register factory for plugin cuDNN when one has already been registered\n",
      "E0000 00:00:1750495234.731705      19 cuda_blas.cc:1418] Unable to register cuBLAS factory: Attempting to register factory for plugin cuBLAS when one has already been registered\n"
     ]
    }
   ],
   "source": [
    "from tensorflow.keras.models import Sequential\n",
    "from tensorflow.keras.layers import Dense,Embedding,Flatten,LSTM\n",
    "from tensorflow.keras.utils import to_categorical as to_cat\n",
    "import numpy as np ; import matplotlib.pyplot as plt ;  import pandas as pd\n",
    "from tensorflow.keras.preprocessing.text import Tokenizer\n",
    "from tensorflow.keras.preprocessing.sequence import pad_sequences\n",
    "from sklearn.model_selection import train_test_split\n",
    "\n",
    "import warnings,re ,string\n",
    "warnings.filterwarnings(\"ignore\")"
   ]
  },
  {
   "cell_type": "code",
   "execution_count": 2,
   "id": "ea238b35",
   "metadata": {
    "execution": {
     "iopub.execute_input": "2025-06-21T08:40:47.957379Z",
     "iopub.status.busy": "2025-06-21T08:40:47.956938Z",
     "iopub.status.idle": "2025-06-21T08:40:47.986896Z",
     "shell.execute_reply": "2025-06-21T08:40:47.985987Z"
    },
    "papermill": {
     "duration": 0.034271,
     "end_time": "2025-06-21T08:40:47.988093",
     "exception": false,
     "start_time": "2025-06-21T08:40:47.953822",
     "status": "completed"
    },
    "tags": []
   },
   "outputs": [
    {
     "name": "stdout",
     "output_type": "stream",
     "text": [
      "Shape of the data :  (50,)\n",
      "0    Geu Roo is a young autistic man. He works for ...\n",
      "1    Although Baek Hee Sung is hiding a dark secret...\n",
      "2    The stories of people going through their days...\n",
      "Name: Synopsis, dtype: object\n"
     ]
    }
   ],
   "source": [
    "data =  pd.read_csv(\"/kaggle/input/top-250-korean-dramas-kdrama-dataset/kdrama.csv\")[\"Synopsis\"][:50]\n",
    "print(\"Shape of the data : \",data.shape)\n",
    "print(data[:3])"
   ]
  },
  {
   "cell_type": "code",
   "execution_count": 3,
   "id": "6ffea7ff",
   "metadata": {
    "execution": {
     "iopub.execute_input": "2025-06-21T08:40:47.994231Z",
     "iopub.status.busy": "2025-06-21T08:40:47.993866Z",
     "iopub.status.idle": "2025-06-21T08:40:47.998522Z",
     "shell.execute_reply": "2025-06-21T08:40:47.997857Z"
    },
    "papermill": {
     "duration": 0.008879,
     "end_time": "2025-06-21T08:40:47.999680",
     "exception": false,
     "start_time": "2025-06-21T08:40:47.990801",
     "status": "completed"
    },
    "tags": []
   },
   "outputs": [],
   "source": [
    "def remove_mentions(text):\n",
    "    text = re.sub(r'@\\S*', ' ', text)\n",
    "    text = re.sub(r'#\\S*', ' ', text)\n",
    "    return text\n",
    "\n",
    "def removing_special_chars(text):\n",
    "    pat = r'[^a-zA-z0-9.,!?/:;\\\"\\'\\s]'\n",
    "    return re.sub(pat,' ',text)\n",
    "\n",
    "\n",
    "def remove_punctuation(text):\n",
    "    return ''.join([c for c in text if c not in string.punctuation])\n",
    "\n",
    "def clean_text(text):\n",
    "    text =  str(text).lower()\n",
    "    text =  remove_mentions(text)\n",
    "    text  =  removing_special_chars(text)\n",
    "    text =  remove_punctuation(text)\n",
    "    return text"
   ]
  },
  {
   "cell_type": "code",
   "execution_count": 4,
   "id": "b2f59f78",
   "metadata": {
    "execution": {
     "iopub.execute_input": "2025-06-21T08:40:48.005628Z",
     "iopub.status.busy": "2025-06-21T08:40:48.005021Z",
     "iopub.status.idle": "2025-06-21T08:40:48.015014Z",
     "shell.execute_reply": "2025-06-21T08:40:48.014294Z"
    },
    "papermill": {
     "duration": 0.013938,
     "end_time": "2025-06-21T08:40:48.016080",
     "exception": false,
     "start_time": "2025-06-21T08:40:48.002142",
     "status": "completed"
    },
    "tags": []
   },
   "outputs": [],
   "source": [
    "for index,i in enumerate(data) :\n",
    "    data[index] = clean_text(i)   # Clean text\n",
    "     \n",
    "token  = Tokenizer()\n",
    "token.fit_on_texts(data.ravel())   # ravel for fitting it u can use flatten also \n"
   ]
  },
  {
   "cell_type": "markdown",
   "id": "ca0b329f",
   "metadata": {
    "papermill": {
     "duration": 0.002232,
     "end_time": "2025-06-21T08:40:48.020855",
     "exception": false,
     "start_time": "2025-06-21T08:40:48.018623",
     "status": "completed"
    },
    "tags": []
   },
   "source": [
    "### Look at down what is the stratergy we are applying  here is :"
   ]
  },
  {
   "cell_type": "code",
   "execution_count": 5,
   "id": "5c9ddcfb",
   "metadata": {
    "execution": {
     "iopub.execute_input": "2025-06-21T08:40:48.026332Z",
     "iopub.status.busy": "2025-06-21T08:40:48.026160Z",
     "iopub.status.idle": "2025-06-21T08:40:48.032238Z",
     "shell.execute_reply": "2025-06-21T08:40:48.031538Z"
    },
    "papermill": {
     "duration": 0.010003,
     "end_time": "2025-06-21T08:40:48.033225",
     "exception": false,
     "start_time": "2025-06-21T08:40:48.023222",
     "status": "completed"
    },
    "tags": []
   },
   "outputs": [
    {
     "data": {
      "text/plain": [
       "[[116, 169],\n",
       " [116, 169, 7],\n",
       " [116, 169, 7, 2],\n",
       " [116, 169, 7, 2, 21],\n",
       " [116, 169, 7, 2, 21, 471]]"
      ]
     },
     "execution_count": 5,
     "metadata": {},
     "output_type": "execute_result"
    }
   ],
   "source": [
    "sample = []\n",
    "    \n",
    "tokenized =  token.texts_to_sequences([data[0]])[0]\n",
    "for i in range(1,len(data[0])):\n",
    "    sample.append(tokenized[:i+1])\n",
    "sample[:5]"
   ]
  },
  {
   "cell_type": "markdown",
   "id": "672ed0c1",
   "metadata": {
    "papermill": {
     "duration": 0.002331,
     "end_time": "2025-06-21T08:40:48.038111",
     "exception": false,
     "start_time": "2025-06-21T08:40:48.035780",
     "status": "completed"
    },
    "tags": []
   },
   "source": [
    "### Lets Look at the logic what is happening \n",
    "\n",
    "=> suppose a sample sentence `This sent is good`  so we will make it a supervised learning problem by \n",
    "\n",
    "\n",
    "| Text    | Ouput |\n",
    "| -------- | ------- |\n",
    "| This  | sent    |\n",
    "| This sent | is     |\n",
    "| This sent is     | good    |\n",
    "\n",
    "<u> **we will create a vector like this** </u> :\n",
    "```\n",
    "[116, 169],  =>  116 |  169\n",
    " [116, 169, 7], =>  116,169 | 7\n",
    " [116, 169, 7, 2], => 116 169 7| 2\n",
    " [116, 169, 7, 2, 21], => 116 169 7 2 | 21\n",
    " [116, 169, 7, 2, 21, 471]] = > 116 169 7 2 21| 471\n",
    "```"
   ]
  },
  {
   "cell_type": "code",
   "execution_count": 6,
   "id": "75606361",
   "metadata": {
    "execution": {
     "iopub.execute_input": "2025-06-21T08:40:48.043882Z",
     "iopub.status.busy": "2025-06-21T08:40:48.043683Z",
     "iopub.status.idle": "2025-06-21T08:40:48.191815Z",
     "shell.execute_reply": "2025-06-21T08:40:48.190889Z"
    },
    "papermill": {
     "duration": 0.152705,
     "end_time": "2025-06-21T08:40:48.193220",
     "exception": false,
     "start_time": "2025-06-21T08:40:48.040515",
     "status": "completed"
    },
    "tags": []
   },
   "outputs": [],
   "source": [
    "input_seqs = []\n",
    "for sent in data.ravel():\n",
    "    \n",
    "    tokenized =  token.texts_to_sequences([sent])[0]\n",
    "    for i in range(1,len(sent)):\n",
    "        input_seqs.append(tokenized[:i+1])\n",
    "        \n",
    "max_length =  max([len(x)  for x in input_seqs])\n",
    "padded =  pad_sequences(input_seqs,maxlen=max_length)"
   ]
  },
  {
   "cell_type": "markdown",
   "id": "1825327a",
   "metadata": {
    "papermill": {
     "duration": 0.002362,
     "end_time": "2025-06-21T08:40:48.198559",
     "exception": false,
     "start_time": "2025-06-21T08:40:48.196197",
     "status": "completed"
    },
    "tags": []
   },
   "source": [
    "**In the above cell started with range(1,..) not range(0,... )?** <br />\n",
    "=>  cuz we are talking two words initally so later first word can become `text`  and second become `output` <br />\n",
    "**Example**:  we wil start with `[116,169]` then it becomes `116 |119`\n"
   ]
  },
  {
   "cell_type": "code",
   "execution_count": 7,
   "id": "27f03b48",
   "metadata": {
    "execution": {
     "iopub.execute_input": "2025-06-21T08:40:48.204201Z",
     "iopub.status.busy": "2025-06-21T08:40:48.203977Z",
     "iopub.status.idle": "2025-06-21T08:40:48.262621Z",
     "shell.execute_reply": "2025-06-21T08:40:48.262022Z"
    },
    "papermill": {
     "duration": 0.062858,
     "end_time": "2025-06-21T08:40:48.263871",
     "exception": false,
     "start_time": "2025-06-21T08:40:48.201013",
     "status": "completed"
    },
    "tags": []
   },
   "outputs": [],
   "source": [
    "X =  padded[:,:-1]\n",
    "Y =  padded[:,-1]\n",
    "Y =  to_cat(Y,num_classes=len(token.word_index) + 1) # classes start with 0"
   ]
  },
  {
   "cell_type": "code",
   "execution_count": 8,
   "id": "4c9dbe8e",
   "metadata": {
    "execution": {
     "iopub.execute_input": "2025-06-21T08:40:48.270525Z",
     "iopub.status.busy": "2025-06-21T08:40:48.270107Z",
     "iopub.status.idle": "2025-06-21T08:40:48.274101Z",
     "shell.execute_reply": "2025-06-21T08:40:48.273388Z"
    },
    "papermill": {
     "duration": 0.008278,
     "end_time": "2025-06-21T08:40:48.275226",
     "exception": false,
     "start_time": "2025-06-21T08:40:48.266948",
     "status": "completed"
    },
    "tags": []
   },
   "outputs": [
    {
     "name": "stdout",
     "output_type": "stream",
     "text": [
      "Num words (vocab size ):  1291\n",
      "Max Length :  187\n"
     ]
    }
   ],
   "source": [
    "print(\"Num words (vocab size ): \",len(token.word_index))\n",
    "print(\"Max Length : \",max_length)"
   ]
  },
  {
   "cell_type": "code",
   "execution_count": 9,
   "id": "46b8b1ae",
   "metadata": {
    "execution": {
     "iopub.execute_input": "2025-06-21T08:40:48.281417Z",
     "iopub.status.busy": "2025-06-21T08:40:48.280957Z",
     "iopub.status.idle": "2025-06-21T08:40:48.284853Z",
     "shell.execute_reply": "2025-06-21T08:40:48.284147Z"
    },
    "papermill": {
     "duration": 0.008138,
     "end_time": "2025-06-21T08:40:48.285941",
     "exception": false,
     "start_time": "2025-06-21T08:40:48.277803",
     "status": "completed"
    },
    "tags": []
   },
   "outputs": [
    {
     "name": "stdout",
     "output_type": "stream",
     "text": [
      "Shape x : (20114, 186)\n",
      "Shape Y  (20114, 1292)\n"
     ]
    }
   ],
   "source": [
    "print(\"Shape x :\",X.shape)\n",
    "print(\"Shape Y \",Y.shape)"
   ]
  },
  {
   "cell_type": "markdown",
   "id": "791b4a3e",
   "metadata": {
    "papermill": {
     "duration": 0.002365,
     "end_time": "2025-06-21T08:40:48.291192",
     "exception": false,
     "start_time": "2025-06-21T08:40:48.288827",
     "status": "completed"
    },
    "tags": []
   },
   "source": [
    "**`Embedding(num_words,output_shape,max_length_of_input)`** <br />\n",
    "=> `num_words` = `num_classes` of y =  length_of_`word_index+1`\n"
   ]
  },
  {
   "cell_type": "code",
   "execution_count": 10,
   "id": "326a4baf",
   "metadata": {
    "execution": {
     "iopub.execute_input": "2025-06-21T08:40:48.296888Z",
     "iopub.status.busy": "2025-06-21T08:40:48.296687Z",
     "iopub.status.idle": "2025-06-21T08:40:49.501100Z",
     "shell.execute_reply": "2025-06-21T08:40:49.500467Z"
    },
    "papermill": {
     "duration": 1.208432,
     "end_time": "2025-06-21T08:40:49.502131",
     "exception": false,
     "start_time": "2025-06-21T08:40:48.293699",
     "status": "completed"
    },
    "tags": []
   },
   "outputs": [
    {
     "name": "stderr",
     "output_type": "stream",
     "text": [
      "I0000 00:00:1750495249.440328      19 gpu_device.cc:2022] Created device /job:localhost/replica:0/task:0/device:GPU:0 with 15513 MB memory:  -> device: 0, name: Tesla P100-PCIE-16GB, pci bus id: 0000:00:04.0, compute capability: 6.0\n"
     ]
    },
    {
     "data": {
      "text/html": [
       "<pre style=\"white-space:pre;overflow-x:auto;line-height:normal;font-family:Menlo,'DejaVu Sans Mono',consolas,'Courier New',monospace\"><span style=\"font-weight: bold\">Model: \"sequential\"</span>\n",
       "</pre>\n"
      ],
      "text/plain": [
       "\u001b[1mModel: \"sequential\"\u001b[0m\n"
      ]
     },
     "metadata": {},
     "output_type": "display_data"
    },
    {
     "data": {
      "text/html": [
       "<pre style=\"white-space:pre;overflow-x:auto;line-height:normal;font-family:Menlo,'DejaVu Sans Mono',consolas,'Courier New',monospace\">┏━━━━━━━━━━━━━━━━━━━━━━━━━━━━━━━━━━━━━━┳━━━━━━━━━━━━━━━━━━━━━━━━━━━━━┳━━━━━━━━━━━━━━━━━┓\n",
       "┃<span style=\"font-weight: bold\"> Layer (type)                         </span>┃<span style=\"font-weight: bold\"> Output Shape                </span>┃<span style=\"font-weight: bold\">         Param # </span>┃\n",
       "┡━━━━━━━━━━━━━━━━━━━━━━━━━━━━━━━━━━━━━━╇━━━━━━━━━━━━━━━━━━━━━━━━━━━━━╇━━━━━━━━━━━━━━━━━┩\n",
       "│ embedding (<span style=\"color: #0087ff; text-decoration-color: #0087ff\">Embedding</span>)                │ ?                           │     <span style=\"color: #00af00; text-decoration-color: #00af00\">0</span> (unbuilt) │\n",
       "├──────────────────────────────────────┼─────────────────────────────┼─────────────────┤\n",
       "│ lstm (<span style=\"color: #0087ff; text-decoration-color: #0087ff\">LSTM</span>)                          │ ?                           │     <span style=\"color: #00af00; text-decoration-color: #00af00\">0</span> (unbuilt) │\n",
       "├──────────────────────────────────────┼─────────────────────────────┼─────────────────┤\n",
       "│ dense (<span style=\"color: #0087ff; text-decoration-color: #0087ff\">Dense</span>)                        │ ?                           │     <span style=\"color: #00af00; text-decoration-color: #00af00\">0</span> (unbuilt) │\n",
       "└──────────────────────────────────────┴─────────────────────────────┴─────────────────┘\n",
       "</pre>\n"
      ],
      "text/plain": [
       "┏━━━━━━━━━━━━━━━━━━━━━━━━━━━━━━━━━━━━━━┳━━━━━━━━━━━━━━━━━━━━━━━━━━━━━┳━━━━━━━━━━━━━━━━━┓\n",
       "┃\u001b[1m \u001b[0m\u001b[1mLayer (type)                        \u001b[0m\u001b[1m \u001b[0m┃\u001b[1m \u001b[0m\u001b[1mOutput Shape               \u001b[0m\u001b[1m \u001b[0m┃\u001b[1m \u001b[0m\u001b[1m        Param #\u001b[0m\u001b[1m \u001b[0m┃\n",
       "┡━━━━━━━━━━━━━━━━━━━━━━━━━━━━━━━━━━━━━━╇━━━━━━━━━━━━━━━━━━━━━━━━━━━━━╇━━━━━━━━━━━━━━━━━┩\n",
       "│ embedding (\u001b[38;5;33mEmbedding\u001b[0m)                │ ?                           │     \u001b[38;5;34m0\u001b[0m (unbuilt) │\n",
       "├──────────────────────────────────────┼─────────────────────────────┼─────────────────┤\n",
       "│ lstm (\u001b[38;5;33mLSTM\u001b[0m)                          │ ?                           │     \u001b[38;5;34m0\u001b[0m (unbuilt) │\n",
       "├──────────────────────────────────────┼─────────────────────────────┼─────────────────┤\n",
       "│ dense (\u001b[38;5;33mDense\u001b[0m)                        │ ?                           │     \u001b[38;5;34m0\u001b[0m (unbuilt) │\n",
       "└──────────────────────────────────────┴─────────────────────────────┴─────────────────┘\n"
      ]
     },
     "metadata": {},
     "output_type": "display_data"
    },
    {
     "data": {
      "text/html": [
       "<pre style=\"white-space:pre;overflow-x:auto;line-height:normal;font-family:Menlo,'DejaVu Sans Mono',consolas,'Courier New',monospace\"><span style=\"font-weight: bold\"> Total params: </span><span style=\"color: #00af00; text-decoration-color: #00af00\">0</span> (0.00 B)\n",
       "</pre>\n"
      ],
      "text/plain": [
       "\u001b[1m Total params: \u001b[0m\u001b[38;5;34m0\u001b[0m (0.00 B)\n"
      ]
     },
     "metadata": {},
     "output_type": "display_data"
    },
    {
     "data": {
      "text/html": [
       "<pre style=\"white-space:pre;overflow-x:auto;line-height:normal;font-family:Menlo,'DejaVu Sans Mono',consolas,'Courier New',monospace\"><span style=\"font-weight: bold\"> Trainable params: </span><span style=\"color: #00af00; text-decoration-color: #00af00\">0</span> (0.00 B)\n",
       "</pre>\n"
      ],
      "text/plain": [
       "\u001b[1m Trainable params: \u001b[0m\u001b[38;5;34m0\u001b[0m (0.00 B)\n"
      ]
     },
     "metadata": {},
     "output_type": "display_data"
    },
    {
     "data": {
      "text/html": [
       "<pre style=\"white-space:pre;overflow-x:auto;line-height:normal;font-family:Menlo,'DejaVu Sans Mono',consolas,'Courier New',monospace\"><span style=\"font-weight: bold\"> Non-trainable params: </span><span style=\"color: #00af00; text-decoration-color: #00af00\">0</span> (0.00 B)\n",
       "</pre>\n"
      ],
      "text/plain": [
       "\u001b[1m Non-trainable params: \u001b[0m\u001b[38;5;34m0\u001b[0m (0.00 B)\n"
      ]
     },
     "metadata": {},
     "output_type": "display_data"
    }
   ],
   "source": [
    "model =  Sequential([\n",
    "    Embedding(len(token.word_index) + 1,100,input_length=max_length),\n",
    "    LSTM(256),\n",
    "    Dense(len(token.word_index) + 1,activation=\"softmax\")\n",
    "    \n",
    "])\n",
    "model.compile(loss=\"categorical_crossentropy\",optimizer=\"adam\",metrics=[\"acc\"])\n",
    "model.summary()"
   ]
  },
  {
   "cell_type": "code",
   "execution_count": 11,
   "id": "1081a3f9",
   "metadata": {
    "execution": {
     "iopub.execute_input": "2025-06-21T08:40:49.509314Z",
     "iopub.status.busy": "2025-06-21T08:40:49.509124Z",
     "iopub.status.idle": "2025-06-21T08:43:44.757719Z",
     "shell.execute_reply": "2025-06-21T08:43:44.756945Z"
    },
    "papermill": {
     "duration": 175.253501,
     "end_time": "2025-06-21T08:43:44.759019",
     "exception": false,
     "start_time": "2025-06-21T08:40:49.505518",
     "status": "completed"
    },
    "tags": []
   },
   "outputs": [
    {
     "name": "stdout",
     "output_type": "stream",
     "text": [
      "Epoch 1/20\n"
     ]
    },
    {
     "name": "stderr",
     "output_type": "stream",
     "text": [
      "I0000 00:00:1750495253.659989      59 cuda_dnn.cc:529] Loaded cuDNN version 90300\n"
     ]
    },
    {
     "name": "stdout",
     "output_type": "stream",
     "text": [
      "\u001b[1m629/629\u001b[0m \u001b[32m━━━━━━━━━━━━━━━━━━━━\u001b[0m\u001b[37m\u001b[0m \u001b[1m13s\u001b[0m 14ms/step - acc: 0.3613 - loss: 3.8320\n",
      "Epoch 2/20\n",
      "\u001b[1m629/629\u001b[0m \u001b[32m━━━━━━━━━━━━━━━━━━━━\u001b[0m\u001b[37m\u001b[0m \u001b[1m9s\u001b[0m 14ms/step - acc: 0.8307 - loss: 1.1153\n",
      "Epoch 3/20\n",
      "\u001b[1m629/629\u001b[0m \u001b[32m━━━━━━━━━━━━━━━━━━━━\u001b[0m\u001b[37m\u001b[0m \u001b[1m9s\u001b[0m 14ms/step - acc: 0.8330 - loss: 1.0233\n",
      "Epoch 4/20\n",
      "\u001b[1m629/629\u001b[0m \u001b[32m━━━━━━━━━━━━━━━━━━━━\u001b[0m\u001b[37m\u001b[0m \u001b[1m8s\u001b[0m 13ms/step - acc: 0.8411 - loss: 0.8843\n",
      "Epoch 5/20\n",
      "\u001b[1m629/629\u001b[0m \u001b[32m━━━━━━━━━━━━━━━━━━━━\u001b[0m\u001b[37m\u001b[0m \u001b[1m9s\u001b[0m 14ms/step - acc: 0.8465 - loss: 0.7656\n",
      "Epoch 6/20\n",
      "\u001b[1m629/629\u001b[0m \u001b[32m━━━━━━━━━━━━━━━━━━━━\u001b[0m\u001b[37m\u001b[0m \u001b[1m9s\u001b[0m 14ms/step - acc: 0.8615 - loss: 0.6274\n",
      "Epoch 7/20\n",
      "\u001b[1m629/629\u001b[0m \u001b[32m━━━━━━━━━━━━━━━━━━━━\u001b[0m\u001b[37m\u001b[0m \u001b[1m9s\u001b[0m 14ms/step - acc: 0.8914 - loss: 0.4829\n",
      "Epoch 8/20\n",
      "\u001b[1m629/629\u001b[0m \u001b[32m━━━━━━━━━━━━━━━━━━━━\u001b[0m\u001b[37m\u001b[0m \u001b[1m9s\u001b[0m 14ms/step - acc: 0.9261 - loss: 0.3491\n",
      "Epoch 9/20\n",
      "\u001b[1m629/629\u001b[0m \u001b[32m━━━━━━━━━━━━━━━━━━━━\u001b[0m\u001b[37m\u001b[0m \u001b[1m9s\u001b[0m 14ms/step - acc: 0.9538 - loss: 0.2421\n",
      "Epoch 10/20\n",
      "\u001b[1m629/629\u001b[0m \u001b[32m━━━━━━━━━━━━━━━━━━━━\u001b[0m\u001b[37m\u001b[0m \u001b[1m9s\u001b[0m 14ms/step - acc: 0.9740 - loss: 0.1611\n",
      "Epoch 11/20\n",
      "\u001b[1m629/629\u001b[0m \u001b[32m━━━━━━━━━━━━━━━━━━━━\u001b[0m\u001b[37m\u001b[0m \u001b[1m9s\u001b[0m 14ms/step - acc: 0.9865 - loss: 0.1041\n",
      "Epoch 12/20\n",
      "\u001b[1m629/629\u001b[0m \u001b[32m━━━━━━━━━━━━━━━━━━━━\u001b[0m\u001b[37m\u001b[0m \u001b[1m9s\u001b[0m 14ms/step - acc: 0.9946 - loss: 0.0608\n",
      "Epoch 13/20\n",
      "\u001b[1m629/629\u001b[0m \u001b[32m━━━━━━━━━━━━━━━━━━━━\u001b[0m\u001b[37m\u001b[0m \u001b[1m9s\u001b[0m 14ms/step - acc: 0.9976 - loss: 0.0402\n",
      "Epoch 14/20\n",
      "\u001b[1m629/629\u001b[0m \u001b[32m━━━━━━━━━━━━━━━━━━━━\u001b[0m\u001b[37m\u001b[0m \u001b[1m9s\u001b[0m 14ms/step - acc: 0.9984 - loss: 0.0234\n",
      "Epoch 15/20\n",
      "\u001b[1m629/629\u001b[0m \u001b[32m━━━━━━━━━━━━━━━━━━━━\u001b[0m\u001b[37m\u001b[0m \u001b[1m9s\u001b[0m 14ms/step - acc: 0.9989 - loss: 0.0151\n",
      "Epoch 16/20\n",
      "\u001b[1m629/629\u001b[0m \u001b[32m━━━━━━━━━━━━━━━━━━━━\u001b[0m\u001b[37m\u001b[0m \u001b[1m9s\u001b[0m 14ms/step - acc: 0.9988 - loss: 0.0116\n",
      "Epoch 17/20\n",
      "\u001b[1m629/629\u001b[0m \u001b[32m━━━━━━━━━━━━━━━━━━━━\u001b[0m\u001b[37m\u001b[0m \u001b[1m9s\u001b[0m 14ms/step - acc: 0.9994 - loss: 0.0071\n",
      "Epoch 18/20\n",
      "\u001b[1m629/629\u001b[0m \u001b[32m━━━━━━━━━━━━━━━━━━━━\u001b[0m\u001b[37m\u001b[0m \u001b[1m9s\u001b[0m 14ms/step - acc: 0.9990 - loss: 0.0076\n",
      "Epoch 19/20\n",
      "\u001b[1m629/629\u001b[0m \u001b[32m━━━━━━━━━━━━━━━━━━━━\u001b[0m\u001b[37m\u001b[0m \u001b[1m9s\u001b[0m 14ms/step - acc: 0.9977 - loss: 0.0131\n",
      "Epoch 20/20\n",
      "\u001b[1m629/629\u001b[0m \u001b[32m━━━━━━━━━━━━━━━━━━━━\u001b[0m\u001b[37m\u001b[0m \u001b[1m9s\u001b[0m 14ms/step - acc: 0.9953 - loss: 0.0328\n"
     ]
    }
   ],
   "source": [
    "history =  model.fit(X,Y,epochs=20)"
   ]
  },
  {
   "cell_type": "code",
   "execution_count": 12,
   "id": "29e9e70d",
   "metadata": {
    "execution": {
     "iopub.execute_input": "2025-06-21T08:43:45.027258Z",
     "iopub.status.busy": "2025-06-21T08:43:45.026428Z",
     "iopub.status.idle": "2025-06-21T08:43:46.681768Z",
     "shell.execute_reply": "2025-06-21T08:43:46.681130Z"
    },
    "papermill": {
     "duration": 1.790482,
     "end_time": "2025-06-21T08:43:46.682996",
     "exception": false,
     "start_time": "2025-06-21T08:43:44.892514",
     "status": "completed"
    },
    "tags": []
   },
   "outputs": [
    {
     "name": "stdout",
     "output_type": "stream",
     "text": [
      "\u001b[1m1/1\u001b[0m \u001b[32m━━━━━━━━━━━━━━━━━━━━\u001b[0m\u001b[37m\u001b[0m \u001b[1m0s\u001b[0m 185ms/step\n",
      "seoul the\n",
      "\u001b[1m1/1\u001b[0m \u001b[32m━━━━━━━━━━━━━━━━━━━━\u001b[0m\u001b[37m\u001b[0m \u001b[1m0s\u001b[0m 46ms/step\n",
      "seoul the events\n",
      "\u001b[1m1/1\u001b[0m \u001b[32m━━━━━━━━━━━━━━━━━━━━\u001b[0m\u001b[37m\u001b[0m \u001b[1m0s\u001b[0m 38ms/step\n",
      "seoul the events in\n",
      "\u001b[1m1/1\u001b[0m \u001b[32m━━━━━━━━━━━━━━━━━━━━\u001b[0m\u001b[37m\u001b[0m \u001b[1m0s\u001b[0m 32ms/step\n",
      "seoul the events in season\n",
      "\u001b[1m1/1\u001b[0m \u001b[32m━━━━━━━━━━━━━━━━━━━━\u001b[0m\u001b[37m\u001b[0m \u001b[1m0s\u001b[0m 33ms/step\n",
      "seoul the events in season one\n",
      "\u001b[1m1/1\u001b[0m \u001b[32m━━━━━━━━━━━━━━━━━━━━\u001b[0m\u001b[37m\u001b[0m \u001b[1m0s\u001b[0m 31ms/step\n",
      "seoul the events in season one waves\n",
      "\u001b[1m1/1\u001b[0m \u001b[32m━━━━━━━━━━━━━━━━━━━━\u001b[0m\u001b[37m\u001b[0m \u001b[1m0s\u001b[0m 30ms/step\n",
      "seoul the events in season one waves of\n",
      "\u001b[1m1/1\u001b[0m \u001b[32m━━━━━━━━━━━━━━━━━━━━\u001b[0m\u001b[37m\u001b[0m \u001b[1m0s\u001b[0m 31ms/step\n",
      "seoul the events in season one waves of the\n",
      "\u001b[1m1/1\u001b[0m \u001b[32m━━━━━━━━━━━━━━━━━━━━\u001b[0m\u001b[37m\u001b[0m \u001b[1m0s\u001b[0m 31ms/step\n",
      "seoul the events in season one waves of the undead\n",
      "\u001b[1m1/1\u001b[0m \u001b[32m━━━━━━━━━━━━━━━━━━━━\u001b[0m\u001b[37m\u001b[0m \u001b[1m0s\u001b[0m 32ms/step\n",
      "seoul the events in season one waves of the undead threaten\n",
      "\u001b[1m1/1\u001b[0m \u001b[32m━━━━━━━━━━━━━━━━━━━━\u001b[0m\u001b[37m\u001b[0m \u001b[1m0s\u001b[0m 31ms/step\n",
      "seoul the events in season one waves of the undead threaten to\n",
      "\u001b[1m1/1\u001b[0m \u001b[32m━━━━━━━━━━━━━━━━━━━━\u001b[0m\u001b[37m\u001b[0m \u001b[1m0s\u001b[0m 30ms/step\n",
      "seoul the events in season one waves of the undead threaten to reach\n",
      "\u001b[1m1/1\u001b[0m \u001b[32m━━━━━━━━━━━━━━━━━━━━\u001b[0m\u001b[37m\u001b[0m \u001b[1m0s\u001b[0m 30ms/step\n",
      "seoul the events in season one waves of the undead threaten to reach the\n",
      "\u001b[1m1/1\u001b[0m \u001b[32m━━━━━━━━━━━━━━━━━━━━\u001b[0m\u001b[37m\u001b[0m \u001b[1m0s\u001b[0m 30ms/step\n",
      "seoul the events in season one waves of the undead threaten to reach the capital\n",
      "\u001b[1m1/1\u001b[0m \u001b[32m━━━━━━━━━━━━━━━━━━━━\u001b[0m\u001b[37m\u001b[0m \u001b[1m0s\u001b[0m 31ms/step\n",
      "seoul the events in season one waves of the undead threaten to reach the capital in\n",
      "\u001b[1m1/1\u001b[0m \u001b[32m━━━━━━━━━━━━━━━━━━━━\u001b[0m\u001b[37m\u001b[0m \u001b[1m0s\u001b[0m 31ms/step\n",
      "seoul the events in season one waves of the undead threaten to reach the capital in an\n",
      "\u001b[1m1/1\u001b[0m \u001b[32m━━━━━━━━━━━━━━━━━━━━\u001b[0m\u001b[37m\u001b[0m \u001b[1m0s\u001b[0m 30ms/step\n",
      "seoul the events in season one waves of the undead threaten to reach the capital in an attempt\n",
      "\u001b[1m1/1\u001b[0m \u001b[32m━━━━━━━━━━━━━━━━━━━━\u001b[0m\u001b[37m\u001b[0m \u001b[1m0s\u001b[0m 32ms/step\n",
      "seoul the events in season one waves of the undead threaten to reach the capital in an attempt to\n",
      "\u001b[1m1/1\u001b[0m \u001b[32m━━━━━━━━━━━━━━━━━━━━\u001b[0m\u001b[37m\u001b[0m \u001b[1m0s\u001b[0m 31ms/step\n",
      "seoul the events in season one waves of the undead threaten to reach the capital in an attempt to save\n",
      "\u001b[1m1/1\u001b[0m \u001b[32m━━━━━━━━━━━━━━━━━━━━\u001b[0m\u001b[37m\u001b[0m \u001b[1m0s\u001b[0m 32ms/step\n",
      "seoul the events in season one waves of the undead threaten to reach the capital in an attempt to save the\n"
     ]
    }
   ],
   "source": [
    "text  = \"seoul\"\n",
    "\n",
    "for J in range(20):\n",
    "    text_Seq = pad_sequences(token.texts_to_sequences([text]),maxlen=max_length)\n",
    "    verbs = np.argmax(model.predict(text_Seq))\n",
    "    for key,value in token.word_index.items():\n",
    "        if value == verbs :\n",
    "           text =  text + \" \" +key\n",
    "           print(text)\n"
   ]
  }
 ],
 "metadata": {
  "kaggle": {
   "accelerator": "gpu",
   "dataSources": [
    {
     "datasetId": 2829777,
     "sourceId": 4880180,
     "sourceType": "datasetVersion"
    }
   ],
   "dockerImageVersionId": 31041,
   "isGpuEnabled": true,
   "isInternetEnabled": true,
   "language": "python",
   "sourceType": "notebook"
  },
  "kernelspec": {
   "display_name": "Python 3",
   "language": "python",
   "name": "python3"
  },
  "language_info": {
   "codemirror_mode": {
    "name": "ipython",
    "version": 3
   },
   "file_extension": ".py",
   "mimetype": "text/x-python",
   "name": "python",
   "nbconvert_exporter": "python",
   "pygments_lexer": "ipython3",
   "version": "3.11.11"
  },
  "papermill": {
   "default_parameters": {},
   "duration": 201.288689,
   "end_time": "2025-06-21T08:43:50.245513",
   "environment_variables": {},
   "exception": null,
   "input_path": "__notebook__.ipynb",
   "output_path": "__notebook__.ipynb",
   "parameters": {},
   "start_time": "2025-06-21T08:40:28.956824",
   "version": "2.6.0"
  }
 },
 "nbformat": 4,
 "nbformat_minor": 5
}
